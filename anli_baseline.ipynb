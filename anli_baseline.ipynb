{
 "cells": [
  {
   "cell_type": "markdown",
   "id": "c468709d",
   "metadata": {},
   "source": [
    "# ANLI Baseline\n",
    "\n",
    "This model illustrates how to use the DeBERTa-v3-base-mnli-fever-anli model to perform specialized inference on the ANLI dataset.\n",
    "This dataset has 184M parameters. It was trained in 2021 on the basis of a BERT-like embedding approach: \n",
    "* The premise and the hypothesis are encoded using the DeBERTa-v3-base contextual encoder\n",
    "* The encodings are then compared on a fine-tuned model to predict a distribution over the classification labels (entailment, contradiction, neutral)\n",
    "\n",
    "Reported accuracy on ANLI is 0.495 (see https://huggingface.co/MoritzLaurer/DeBERTa-v3-base-mnli-fever-anli) \n",
    "\n"
   ]
  },
  {
   "cell_type": "code",
   "id": "2cec0d02",
   "metadata": {
    "ExecuteTime": {
     "end_time": "2025-07-07T14:53:17.571863Z",
     "start_time": "2025-07-07T14:53:16.593045Z"
    }
   },
   "source": [
    "from transformers import AutoTokenizer, AutoModelForSequenceClassification\n",
    "import torch\n",
    "device = torch.device(\"cuda\") if torch.cuda.is_available() else torch.device(\"cpu\")\n",
    "\n",
    "model_name = \"MoritzLaurer/DeBERTa-v3-base-mnli-fever-anli\"\n",
    "tokenizer = AutoTokenizer.from_pretrained(model_name)\n",
    "model = AutoModelForSequenceClassification.from_pretrained(model_name)"
   ],
   "outputs": [],
   "execution_count": 11
  },
  {
   "metadata": {
    "ExecuteTime": {
     "end_time": "2025-07-07T14:53:17.856767Z",
     "start_time": "2025-07-07T14:53:17.597878Z"
    }
   },
   "cell_type": "code",
   "source": [
    "premise = \"I first thought that I liked the movie, but upon second thought it was actually disappointing.\"\n",
    "hypothesis = \"The movie was good.\"\n",
    "model.to(device) #Lotem: added to explicitly move the model to GPU.\n",
    "input = tokenizer(premise, hypothesis, truncation=True, return_tensors=\"pt\")\n",
    "output = model(input[\"input_ids\"].to(device))  # device = \"cuda:0\" or \"cpu\"\n",
    "prediction = torch.softmax(output[\"logits\"][0], -1).tolist()\n",
    "label_names = [\"entailment\", \"neutral\", \"contradiction\"]\n",
    "prediction = {name: round(float(pred) * 100, 1) for pred, name in zip(prediction, label_names)}\n",
    "print(prediction)\n"
   ],
   "id": "b9fc0c901ad7473f",
   "outputs": [
    {
     "name": "stderr",
     "output_type": "stream",
     "text": [
      "Asking to truncate to max_length but no maximum length is provided and the model has no predefined maximum length. Default to no truncation.\n"
     ]
    },
    {
     "name": "stdout",
     "output_type": "stream",
     "text": [
      "{'entailment': 6.6, 'neutral': 17.3, 'contradiction': 76.1}\n"
     ]
    }
   ],
   "execution_count": 12
  },
  {
   "cell_type": "code",
   "id": "0cfe31ba",
   "metadata": {
    "ExecuteTime": {
     "end_time": "2025-07-07T15:31:12.625238Z",
     "start_time": "2025-07-07T15:31:12.620203Z"
    }
   },
   "source": [
    "def evaluate(premise, hypothesis):\n",
    "    input = tokenizer(premise, hypothesis, truncation=True, return_tensors=\"pt\")\n",
    "    output = model(input[\"input_ids\"].to(device))\n",
    "    prediction = torch.softmax(output[\"logits\"][0], -1).tolist()\n",
    "    prediction = {name: round(float(pred) * 100, 1) for pred, name in zip(prediction, label_names)}\n",
    "    return prediction"
   ],
   "outputs": [],
   "execution_count": 32
  },
  {
   "cell_type": "code",
   "id": "a2954d97",
   "metadata": {
    "ExecuteTime": {
     "end_time": "2025-07-07T14:53:17.979419Z",
     "start_time": "2025-07-07T14:53:17.955614Z"
    }
   },
   "source": [
    "evaluate(\"The weather is nice today.\", \"It is sunny outside.\")"
   ],
   "outputs": [
    {
     "data": {
      "text/plain": [
       "{'entailment': 0.1, 'neutral': 99.8, 'contradiction': 0.0}"
      ]
     },
     "execution_count": 14,
     "metadata": {},
     "output_type": "execute_result"
    }
   ],
   "execution_count": 14
  },
  {
   "cell_type": "code",
   "id": "923ea5e0",
   "metadata": {
    "ExecuteTime": {
     "end_time": "2025-07-07T14:53:18.024133Z",
     "start_time": "2025-07-07T14:53:18.021745Z"
    }
   },
   "source": [
    "def get_prediction(pred_dict):\n",
    "    if pred_dict[\"entailment\"] > pred_dict[\"contradiction\"]  and pred_dict[\"entailment\"] > pred_dict[\"neutral\"]:\n",
    "        return \"entailment\"\n",
    "    elif pred_dict[\"contradiction\"] > pred_dict[\"entailment\"]:\n",
    "        return \"contradiction\"\n",
    "    else:\n",
    "        return \"neutral\""
   ],
   "outputs": [],
   "execution_count": 15
  },
  {
   "cell_type": "code",
   "id": "af257dff",
   "metadata": {
    "ExecuteTime": {
     "end_time": "2025-07-07T14:53:18.208599Z",
     "start_time": "2025-07-07T14:53:18.115169Z"
    }
   },
   "source": [
    "get_prediction(evaluate(\"The weather is nice today.\", \"It is sunny outside.\"))"
   ],
   "outputs": [
    {
     "data": {
      "text/plain": [
       "'neutral'"
      ]
     },
     "execution_count": 16,
     "metadata": {},
     "output_type": "execute_result"
    }
   ],
   "execution_count": 16
  },
  {
   "cell_type": "code",
   "id": "929632f5",
   "metadata": {
    "ExecuteTime": {
     "end_time": "2025-07-07T14:53:18.251989Z",
     "start_time": "2025-07-07T14:53:18.236482Z"
    }
   },
   "source": [
    "get_prediction(evaluate(\"It is sunny outside.\", \"The weather is nice today.\"))"
   ],
   "outputs": [
    {
     "data": {
      "text/plain": [
       "'entailment'"
      ]
     },
     "execution_count": 17,
     "metadata": {},
     "output_type": "execute_result"
    }
   ],
   "execution_count": 17
  },
  {
   "cell_type": "code",
   "id": "747c0cb9",
   "metadata": {
    "ExecuteTime": {
     "end_time": "2025-07-07T14:53:18.336904Z",
     "start_time": "2025-07-07T14:53:18.320386Z"
    }
   },
   "source": [
    "get_prediction(evaluate(\"It is sunny outside.\", \"The weather is terrible today.\"))"
   ],
   "outputs": [
    {
     "data": {
      "text/plain": [
       "'contradiction'"
      ]
     },
     "execution_count": 18,
     "metadata": {},
     "output_type": "execute_result"
    }
   ],
   "execution_count": 18
  },
  {
   "cell_type": "markdown",
   "id": "17ab422d",
   "metadata": {},
   "source": [
    "## Load ANLI dataset"
   ]
  },
  {
   "cell_type": "code",
   "id": "0438789b",
   "metadata": {
    "ExecuteTime": {
     "end_time": "2025-07-07T14:53:39.497083Z",
     "start_time": "2025-07-07T14:53:18.412300Z"
    }
   },
   "source": [
    "from datasets import load_dataset\n",
    "\n",
    "dataset = load_dataset(\"facebook/anli\")\n",
    "dataset = dataset.filter(lambda x: x['reason'] != None and x['reason'] != \"\")"
   ],
   "outputs": [
    {
     "data": {
      "text/plain": [
       "README.md: 0.00B [00:00, ?B/s]"
      ],
      "application/vnd.jupyter.widget-view+json": {
       "version_major": 2,
       "version_minor": 0,
       "model_id": "0e0d8e74b0bc4474aae8963206bbb694"
      }
     },
     "metadata": {},
     "output_type": "display_data"
    },
    {
     "data": {
      "text/plain": [
       "plain_text/train_r1-00000-of-00001.parqu(…):   0%|          | 0.00/3.14M [00:00<?, ?B/s]"
      ],
      "application/vnd.jupyter.widget-view+json": {
       "version_major": 2,
       "version_minor": 0,
       "model_id": "1f5213ce1aff4decbe95be08e2c9f5cc"
      }
     },
     "metadata": {},
     "output_type": "display_data"
    },
    {
     "data": {
      "text/plain": [
       "plain_text/dev_r1-00000-of-00001.parquet:   0%|          | 0.00/351k [00:00<?, ?B/s]"
      ],
      "application/vnd.jupyter.widget-view+json": {
       "version_major": 2,
       "version_minor": 0,
       "model_id": "e6e740aba2d54ed8a8cd60f09a1d5f20"
      }
     },
     "metadata": {},
     "output_type": "display_data"
    },
    {
     "data": {
      "text/plain": [
       "plain_text/test_r1-00000-of-00001.parque(…):   0%|          | 0.00/353k [00:00<?, ?B/s]"
      ],
      "application/vnd.jupyter.widget-view+json": {
       "version_major": 2,
       "version_minor": 0,
       "model_id": "56a07bd105a84752931069106adbed90"
      }
     },
     "metadata": {},
     "output_type": "display_data"
    },
    {
     "data": {
      "text/plain": [
       "plain_text/train_r2-00000-of-00001.parqu(…):   0%|          | 0.00/6.53M [00:00<?, ?B/s]"
      ],
      "application/vnd.jupyter.widget-view+json": {
       "version_major": 2,
       "version_minor": 0,
       "model_id": "07ecb97219814878b85b434a37dc21f9"
      }
     },
     "metadata": {},
     "output_type": "display_data"
    },
    {
     "data": {
      "text/plain": [
       "plain_text/dev_r2-00000-of-00001.parquet:   0%|          | 0.00/351k [00:00<?, ?B/s]"
      ],
      "application/vnd.jupyter.widget-view+json": {
       "version_major": 2,
       "version_minor": 0,
       "model_id": "740b3fd17b7a4e04ac668cbfb1c86a64"
      }
     },
     "metadata": {},
     "output_type": "display_data"
    },
    {
     "data": {
      "text/plain": [
       "plain_text/test_r2-00000-of-00001.parque(…):   0%|          | 0.00/362k [00:00<?, ?B/s]"
      ],
      "application/vnd.jupyter.widget-view+json": {
       "version_major": 2,
       "version_minor": 0,
       "model_id": "6dac22bb8120446192e6536d40558033"
      }
     },
     "metadata": {},
     "output_type": "display_data"
    },
    {
     "data": {
      "text/plain": [
       "plain_text/train_r3-00000-of-00001.parqu(…):   0%|          | 0.00/14.3M [00:00<?, ?B/s]"
      ],
      "application/vnd.jupyter.widget-view+json": {
       "version_major": 2,
       "version_minor": 0,
       "model_id": "d2c3e63cefd846eeb15067c84ce9b40f"
      }
     },
     "metadata": {},
     "output_type": "display_data"
    },
    {
     "data": {
      "text/plain": [
       "plain_text/dev_r3-00000-of-00001.parquet:   0%|          | 0.00/434k [00:00<?, ?B/s]"
      ],
      "application/vnd.jupyter.widget-view+json": {
       "version_major": 2,
       "version_minor": 0,
       "model_id": "8e36be09aca64579ad7669fd985ea8f8"
      }
     },
     "metadata": {},
     "output_type": "display_data"
    },
    {
     "data": {
      "text/plain": [
       "plain_text/test_r3-00000-of-00001.parque(…):   0%|          | 0.00/435k [00:00<?, ?B/s]"
      ],
      "application/vnd.jupyter.widget-view+json": {
       "version_major": 2,
       "version_minor": 0,
       "model_id": "cb599e510ebf48a7b40d11d139bc9c0f"
      }
     },
     "metadata": {},
     "output_type": "display_data"
    },
    {
     "data": {
      "text/plain": [
       "Generating train_r1 split:   0%|          | 0/16946 [00:00<?, ? examples/s]"
      ],
      "application/vnd.jupyter.widget-view+json": {
       "version_major": 2,
       "version_minor": 0,
       "model_id": "e19932b7658c4d6380d407b6b3a9dca8"
      }
     },
     "metadata": {},
     "output_type": "display_data"
    },
    {
     "data": {
      "text/plain": [
       "Generating dev_r1 split:   0%|          | 0/1000 [00:00<?, ? examples/s]"
      ],
      "application/vnd.jupyter.widget-view+json": {
       "version_major": 2,
       "version_minor": 0,
       "model_id": "ff3c70fe9b1f4227817cec045ed450d6"
      }
     },
     "metadata": {},
     "output_type": "display_data"
    },
    {
     "data": {
      "text/plain": [
       "Generating test_r1 split:   0%|          | 0/1000 [00:00<?, ? examples/s]"
      ],
      "application/vnd.jupyter.widget-view+json": {
       "version_major": 2,
       "version_minor": 0,
       "model_id": "3d95b82d6fa346fdb7f44e9463d47023"
      }
     },
     "metadata": {},
     "output_type": "display_data"
    },
    {
     "data": {
      "text/plain": [
       "Generating train_r2 split:   0%|          | 0/45460 [00:00<?, ? examples/s]"
      ],
      "application/vnd.jupyter.widget-view+json": {
       "version_major": 2,
       "version_minor": 0,
       "model_id": "20b6dab1365749958d09f5231af048e5"
      }
     },
     "metadata": {},
     "output_type": "display_data"
    },
    {
     "data": {
      "text/plain": [
       "Generating dev_r2 split:   0%|          | 0/1000 [00:00<?, ? examples/s]"
      ],
      "application/vnd.jupyter.widget-view+json": {
       "version_major": 2,
       "version_minor": 0,
       "model_id": "86167a366f4c47a884a2011f39971644"
      }
     },
     "metadata": {},
     "output_type": "display_data"
    },
    {
     "data": {
      "text/plain": [
       "Generating test_r2 split:   0%|          | 0/1000 [00:00<?, ? examples/s]"
      ],
      "application/vnd.jupyter.widget-view+json": {
       "version_major": 2,
       "version_minor": 0,
       "model_id": "d46338b1f2f84be9b3cec31282ed4935"
      }
     },
     "metadata": {},
     "output_type": "display_data"
    },
    {
     "data": {
      "text/plain": [
       "Generating train_r3 split:   0%|          | 0/100459 [00:00<?, ? examples/s]"
      ],
      "application/vnd.jupyter.widget-view+json": {
       "version_major": 2,
       "version_minor": 0,
       "model_id": "162837b5468648a5bbf802ef63837b95"
      }
     },
     "metadata": {},
     "output_type": "display_data"
    },
    {
     "data": {
      "text/plain": [
       "Generating dev_r3 split:   0%|          | 0/1200 [00:00<?, ? examples/s]"
      ],
      "application/vnd.jupyter.widget-view+json": {
       "version_major": 2,
       "version_minor": 0,
       "model_id": "8e09f5b5982f401d8720e39d85d6df61"
      }
     },
     "metadata": {},
     "output_type": "display_data"
    },
    {
     "data": {
      "text/plain": [
       "Generating test_r3 split:   0%|          | 0/1200 [00:00<?, ? examples/s]"
      ],
      "application/vnd.jupyter.widget-view+json": {
       "version_major": 2,
       "version_minor": 0,
       "model_id": "40f4b4771057417983dd28f21e220d46"
      }
     },
     "metadata": {},
     "output_type": "display_data"
    },
    {
     "data": {
      "text/plain": [
       "Filter:   0%|          | 0/16946 [00:00<?, ? examples/s]"
      ],
      "application/vnd.jupyter.widget-view+json": {
       "version_major": 2,
       "version_minor": 0,
       "model_id": "555dcbfeb0e64dae88c1e98084083382"
      }
     },
     "metadata": {},
     "output_type": "display_data"
    },
    {
     "data": {
      "text/plain": [
       "Filter:   0%|          | 0/1000 [00:00<?, ? examples/s]"
      ],
      "application/vnd.jupyter.widget-view+json": {
       "version_major": 2,
       "version_minor": 0,
       "model_id": "9287f30d829b44f28c0cb005aca826ed"
      }
     },
     "metadata": {},
     "output_type": "display_data"
    },
    {
     "data": {
      "text/plain": [
       "Filter:   0%|          | 0/1000 [00:00<?, ? examples/s]"
      ],
      "application/vnd.jupyter.widget-view+json": {
       "version_major": 2,
       "version_minor": 0,
       "model_id": "a8c794d9ba8a4d7eaec902695d375fa6"
      }
     },
     "metadata": {},
     "output_type": "display_data"
    },
    {
     "data": {
      "text/plain": [
       "Filter:   0%|          | 0/45460 [00:00<?, ? examples/s]"
      ],
      "application/vnd.jupyter.widget-view+json": {
       "version_major": 2,
       "version_minor": 0,
       "model_id": "b80e528c91c94402bf14751f4d273773"
      }
     },
     "metadata": {},
     "output_type": "display_data"
    },
    {
     "data": {
      "text/plain": [
       "Filter:   0%|          | 0/1000 [00:00<?, ? examples/s]"
      ],
      "application/vnd.jupyter.widget-view+json": {
       "version_major": 2,
       "version_minor": 0,
       "model_id": "fe67f73bacd347b38b2ccbaf5f0c569b"
      }
     },
     "metadata": {},
     "output_type": "display_data"
    },
    {
     "data": {
      "text/plain": [
       "Filter:   0%|          | 0/1000 [00:00<?, ? examples/s]"
      ],
      "application/vnd.jupyter.widget-view+json": {
       "version_major": 2,
       "version_minor": 0,
       "model_id": "14337a3aca5540d6bcbd44bd7816ab05"
      }
     },
     "metadata": {},
     "output_type": "display_data"
    },
    {
     "data": {
      "text/plain": [
       "Filter:   0%|          | 0/100459 [00:00<?, ? examples/s]"
      ],
      "application/vnd.jupyter.widget-view+json": {
       "version_major": 2,
       "version_minor": 0,
       "model_id": "250a270c03cd47ada7ed5c0dded4930f"
      }
     },
     "metadata": {},
     "output_type": "display_data"
    },
    {
     "data": {
      "text/plain": [
       "Filter:   0%|          | 0/1200 [00:00<?, ? examples/s]"
      ],
      "application/vnd.jupyter.widget-view+json": {
       "version_major": 2,
       "version_minor": 0,
       "model_id": "fee54570d06f49a69c30f321f7228176"
      }
     },
     "metadata": {},
     "output_type": "display_data"
    },
    {
     "data": {
      "text/plain": [
       "Filter:   0%|          | 0/1200 [00:00<?, ? examples/s]"
      ],
      "application/vnd.jupyter.widget-view+json": {
       "version_major": 2,
       "version_minor": 0,
       "model_id": "836d8709d0f4414fae1efb27d84cde51"
      }
     },
     "metadata": {},
     "output_type": "display_data"
    }
   ],
   "execution_count": 19
  },
  {
   "cell_type": "code",
   "id": "e59927ea",
   "metadata": {
    "ExecuteTime": {
     "end_time": "2025-07-07T14:53:39.507244Z",
     "start_time": "2025-07-07T14:53:39.504464Z"
    }
   },
   "source": [
    "dataset"
   ],
   "outputs": [
    {
     "data": {
      "text/plain": [
       "DatasetDict({\n",
       "    train_r1: Dataset({\n",
       "        features: ['uid', 'premise', 'hypothesis', 'label', 'reason'],\n",
       "        num_rows: 2923\n",
       "    })\n",
       "    dev_r1: Dataset({\n",
       "        features: ['uid', 'premise', 'hypothesis', 'label', 'reason'],\n",
       "        num_rows: 1000\n",
       "    })\n",
       "    test_r1: Dataset({\n",
       "        features: ['uid', 'premise', 'hypothesis', 'label', 'reason'],\n",
       "        num_rows: 1000\n",
       "    })\n",
       "    train_r2: Dataset({\n",
       "        features: ['uid', 'premise', 'hypothesis', 'label', 'reason'],\n",
       "        num_rows: 4861\n",
       "    })\n",
       "    dev_r2: Dataset({\n",
       "        features: ['uid', 'premise', 'hypothesis', 'label', 'reason'],\n",
       "        num_rows: 1000\n",
       "    })\n",
       "    test_r2: Dataset({\n",
       "        features: ['uid', 'premise', 'hypothesis', 'label', 'reason'],\n",
       "        num_rows: 1000\n",
       "    })\n",
       "    train_r3: Dataset({\n",
       "        features: ['uid', 'premise', 'hypothesis', 'label', 'reason'],\n",
       "        num_rows: 13375\n",
       "    })\n",
       "    dev_r3: Dataset({\n",
       "        features: ['uid', 'premise', 'hypothesis', 'label', 'reason'],\n",
       "        num_rows: 1200\n",
       "    })\n",
       "    test_r3: Dataset({\n",
       "        features: ['uid', 'premise', 'hypothesis', 'label', 'reason'],\n",
       "        num_rows: 1200\n",
       "    })\n",
       "})"
      ]
     },
     "execution_count": 20,
     "metadata": {},
     "output_type": "execute_result"
    }
   ],
   "execution_count": 20
  },
  {
   "cell_type": "code",
   "id": "b8262068",
   "metadata": {
    "ExecuteTime": {
     "end_time": "2025-07-07T14:53:39.579051Z",
     "start_time": "2025-07-07T14:53:39.576160Z"
    }
   },
   "source": [
    "# Evaluate the model on the ANLI dataset\n",
    "from tqdm import tqdm\n",
    "def evaluate_on_dataset(dataset):\n",
    "    results = []\n",
    "    label_names = [\"entailment\", \"neutral\", \"contradiction\"]\n",
    "    for example in tqdm(dataset):\n",
    "        premise = example['premise']\n",
    "        hypothesis = example['hypothesis']\n",
    "        prediction = evaluate(premise, hypothesis)\n",
    "        results.append({\n",
    "            'premise': premise,\n",
    "            'hypothesis': hypothesis,\n",
    "            'prediction': prediction,\n",
    "            'pred_label': get_prediction(prediction),\n",
    "            'gold_label': label_names[example['label']],\n",
    "            'reason': example['reason']\n",
    "        })\n",
    "    return results"
   ],
   "outputs": [],
   "execution_count": 21
  },
  {
   "cell_type": "code",
   "id": "f858feae",
   "metadata": {
    "ExecuteTime": {
     "end_time": "2025-07-07T14:53:54.024936Z",
     "start_time": "2025-07-07T14:53:39.624560Z"
    }
   },
   "source": [
    "pred_test_r3 = evaluate_on_dataset(dataset['test_r3'])"
   ],
   "outputs": [
    {
     "name": "stderr",
     "output_type": "stream",
     "text": [
      "100%|██████████| 1200/1200 [00:14<00:00, 83.36it/s]\n"
     ]
    }
   ],
   "execution_count": 22
  },
  {
   "cell_type": "code",
   "id": "c8efb717",
   "metadata": {
    "ExecuteTime": {
     "end_time": "2025-07-07T14:53:54.088254Z",
     "start_time": "2025-07-07T14:53:54.076492Z"
    }
   },
   "source": [
    "pred_test_r3[:5]  # Display the first 5 predictions"
   ],
   "outputs": [
    {
     "data": {
      "text/plain": [
       "[{'premise': \"It is Sunday today, let's take a look at the most popular posts of the last couple of days. Most of the articles this week deal with the iPhone, its future version called the iPhone 8 or iPhone Edition, and new builds of iOS and macOS. There are also some posts that deal with the iPhone rival called the Galaxy S8 and some other interesting stories. The list of the most interesting articles is available below. Stay tuned for more rumors and don't forget to follow us on Twitter.\",\n",
       "  'hypothesis': 'The day of the passage is usually when Christians praise the lord together',\n",
       "  'prediction': {'entailment': 2.4, 'neutral': 97.4, 'contradiction': 0.2},\n",
       "  'pred_label': 'neutral',\n",
       "  'gold_label': 'entailment',\n",
       "  'reason': \"Sunday is considered Lord's Day\"},\n",
       " {'premise': 'By The Associated Press WELLINGTON, New Zealand (AP) — All passengers and crew have survived a crash-landing of a plane in a lagoon in the Federated States of Micronesia. WELLINGTON, New Zealand (AP) — All passengers and crew have survived a crash-landing of a plane in a lagoon in the Federated States of Micronesia. Copyright © 2018 The Associated Press. All rights reserved. This material may not be published, broadcast, written or redistributed.',\n",
       "  'hypothesis': 'No children were killed in the accident.',\n",
       "  'prediction': {'entailment': 0.1, 'neutral': 99.9, 'contradiction': 0.0},\n",
       "  'pred_label': 'neutral',\n",
       "  'gold_label': 'entailment',\n",
       "  'reason': 'The context confirms that everybody survived the accident, so there is no way that a child was killed.'},\n",
       " {'premise': 'Tokyo - Food group Nestle is seeking to lure Japanese holiday shoppers with a taste for fine snacking with a gold-wrapped Kit Kat chocolate bar. The single finger Kit Kat is wrapped in a thin layer of gold leaf. Only 500 of the bars go on sale from Dec. 29 with a price tag of around 2,016 yen ($16). The Kit Kat chocolate bar made its debut in Japan in 1973 and since then a variety of flavors -- from green tea to wasabi -- have been produced.',\n",
       "  'hypothesis': 'Japanese like kit kat. ',\n",
       "  'prediction': {'entailment': 84.0, 'neutral': 15.9, 'contradiction': 0.1},\n",
       "  'pred_label': 'entailment',\n",
       "  'gold_label': 'entailment',\n",
       "  'reason': 'according to the text, The Kit Kat chocolate bar made its debut in Japan in 1973 and since then a variety of flavors -- from green tea to wasabi -- have been produced, which means if  they have been so many produced it is because they like it. '},\n",
       " {'premise': 'Governor Greg Abbott has called for a statewide show of support for law enforcement Friday, July 7. Locally, a 15-minute program is planned at 9 a.m. at Memorial Lane Park, 550 N. Travis St. The governor is asking law enforcement officers to turn on red and blue flashing lights for one-minute at 10 a.m. Multiple law enforcement officers were shot and killed in Dallas one year ago.',\n",
       "  'hypothesis': 'Law enforcement officers and the people at the Travis St. memorial do not show their support at the same time.',\n",
       "  'prediction': {'entailment': 11.9, 'neutral': 75.8, 'contradiction': 12.3},\n",
       "  'pred_label': 'contradiction',\n",
       "  'gold_label': 'entailment',\n",
       "  'reason': 'The Travis St.memorial program begins at 9 a.m. Law enforcement officers were asked to turn on red and blue flashing lights for one-minute at 10 a.m.'},\n",
       " {'premise': 'Sept 4 (Reuters) - J.P. Morgan Asset Management, a unit of JPMorgan Chase & Co, said it appointed Pietro Grassano the new country head for France. Based in Paris, Grassano started in his new role on Sept. 1, J.P. Morgan Asset Management said in a statement. Grassano, who has been with the company since 2002, was previously the head of sales for Italy, covering wholesale and retail distribution. He has earlier worked at BNP Paribas Asset Management.',\n",
       "  'hypothesis': 'Pietro Grassano was once the country head for France.',\n",
       "  'prediction': {'entailment': 2.9, 'neutral': 55.1, 'contradiction': 42.0},\n",
       "  'pred_label': 'contradiction',\n",
       "  'gold_label': 'entailment',\n",
       "  'reason': '\"J.P. Morgan Asset Management, a unit of JPMorgan Chase & Co, said it appointed Pietro Grassano the new country head for France.\" I think it was difficult because I worded it past tense, \"He was ONCE the country head\", but I believe that statement is true because it is past Sept 1 when he was appointed.'}]"
      ]
     },
     "execution_count": 23,
     "metadata": {},
     "output_type": "execute_result"
    }
   ],
   "execution_count": 23
  },
  {
   "cell_type": "markdown",
   "id": "ea8e1258",
   "metadata": {},
   "source": [
    "## Evaluate Metrics\n",
    "\n",
    "Let's use the huggingface `evaluate` package to compute the performance of the baseline.\n"
   ]
  },
  {
   "cell_type": "code",
   "id": "0e2e9027",
   "metadata": {
    "ExecuteTime": {
     "end_time": "2025-07-07T14:53:59.275613Z",
     "start_time": "2025-07-07T14:53:54.155515Z"
    }
   },
   "source": [
    "from evaluate import load,combine\n",
    "\n",
    "accuracy = load(\"accuracy\")\n",
    "precision = load(\"precision\")\n",
    "recall = load(\"recall\")\n",
    "f1 = load(\"f1\")\n"
   ],
   "outputs": [
    {
     "data": {
      "text/plain": [
       "Downloading builder script: 0.00B [00:00, ?B/s]"
      ],
      "application/vnd.jupyter.widget-view+json": {
       "version_major": 2,
       "version_minor": 0,
       "model_id": "2c8a7c63f38a4ca6a3ed401bda3f35de"
      }
     },
     "metadata": {},
     "output_type": "display_data"
    },
    {
     "data": {
      "text/plain": [
       "Downloading builder script: 0.00B [00:00, ?B/s]"
      ],
      "application/vnd.jupyter.widget-view+json": {
       "version_major": 2,
       "version_minor": 0,
       "model_id": "5440637b962641a997b30bfffe15afc7"
      }
     },
     "metadata": {},
     "output_type": "display_data"
    },
    {
     "data": {
      "text/plain": [
       "Downloading builder script: 0.00B [00:00, ?B/s]"
      ],
      "application/vnd.jupyter.widget-view+json": {
       "version_major": 2,
       "version_minor": 0,
       "model_id": "69ede2994a95483bbef32ec4eea1bef5"
      }
     },
     "metadata": {},
     "output_type": "display_data"
    },
    {
     "data": {
      "text/plain": [
       "Downloading builder script: 0.00B [00:00, ?B/s]"
      ],
      "application/vnd.jupyter.widget-view+json": {
       "version_major": 2,
       "version_minor": 0,
       "model_id": "7ae4459388484c90996079478d51a9f3"
      }
     },
     "metadata": {},
     "output_type": "display_data"
    }
   ],
   "execution_count": 24
  },
  {
   "cell_type": "code",
   "id": "1ab24e1b",
   "metadata": {
    "ExecuteTime": {
     "end_time": "2025-07-07T14:55:22.825799Z",
     "start_time": "2025-07-07T14:55:18.976585Z"
    }
   },
   "source": [
    "import evaluate\n",
    "clf_metrics = combine([\"accuracy\", \"f1\", \"precision\", \"recall\"])"
   ],
   "outputs": [],
   "execution_count": 27
  },
  {
   "metadata": {
    "ExecuteTime": {
     "end_time": "2025-07-07T15:10:27.990562Z",
     "start_time": "2025-07-07T15:10:27.917980Z"
    }
   },
   "cell_type": "code",
   "source": "clf_metrics.compute(predictions=[0, 1, 0], references=[0, 1, 1])",
   "id": "76fe4bc9d4fde693",
   "outputs": [
    {
     "data": {
      "text/plain": [
       "{'accuracy': 0.6666666666666666,\n",
       " 'f1': 0.6666666666666666,\n",
       " 'precision': 1.0,\n",
       " 'recall': 0.5}"
      ]
     },
     "execution_count": 29,
     "metadata": {},
     "output_type": "execute_result"
    }
   ],
   "execution_count": 29
  },
  {
   "cell_type": "markdown",
   "id": "0909d58b",
   "metadata": {},
   "source": [
    "## Your Turn\n",
    "\n",
    "Compute the classification metrics on the baseline model on each section of the ANLI dataset.\n",
    "\n",
    "https://www.kaggle.com/code/faijanahamadkhan/llm-evaluation-framework-hugging-face provides good documentation on how to use the Huggingface evaluate library."
   ]
  },
  {
   "metadata": {
    "ExecuteTime": {
     "end_time": "2025-07-07T15:34:15.195173Z",
     "start_time": "2025-07-07T15:33:34.849695Z"
    }
   },
   "cell_type": "code",
   "source": [
    "dataset = dataset.filter(lambda x: x['reason'] != None and x['reason'] != \"\")\n",
    "\n",
    "pred_test_r1 = evaluate_on_dataset(dataset['test_r1'])\n",
    "pred_test_r2 = evaluate_on_dataset(dataset['test_r2'])\n",
    "pred_test_r3 = evaluate_on_dataset(dataset['test_r3'])"
   ],
   "id": "efccccb4062faf0d",
   "outputs": [
    {
     "data": {
      "text/plain": [
       "Filter:   0%|          | 0/2923 [00:00<?, ? examples/s]"
      ],
      "application/vnd.jupyter.widget-view+json": {
       "version_major": 2,
       "version_minor": 0,
       "model_id": "e97edea55108480197771aa39b96d89b"
      }
     },
     "metadata": {},
     "output_type": "display_data"
    },
    {
     "data": {
      "text/plain": [
       "Filter:   0%|          | 0/1000 [00:00<?, ? examples/s]"
      ],
      "application/vnd.jupyter.widget-view+json": {
       "version_major": 2,
       "version_minor": 0,
       "model_id": "034cd55c7801429e958398f2f9a2cf81"
      }
     },
     "metadata": {},
     "output_type": "display_data"
    },
    {
     "data": {
      "text/plain": [
       "Filter:   0%|          | 0/1000 [00:00<?, ? examples/s]"
      ],
      "application/vnd.jupyter.widget-view+json": {
       "version_major": 2,
       "version_minor": 0,
       "model_id": "ef77a42ee3394cf4ada5460f406bd8ec"
      }
     },
     "metadata": {},
     "output_type": "display_data"
    },
    {
     "data": {
      "text/plain": [
       "Filter:   0%|          | 0/4861 [00:00<?, ? examples/s]"
      ],
      "application/vnd.jupyter.widget-view+json": {
       "version_major": 2,
       "version_minor": 0,
       "model_id": "862ab96c2e034f17a89d116d146c2744"
      }
     },
     "metadata": {},
     "output_type": "display_data"
    },
    {
     "data": {
      "text/plain": [
       "Filter:   0%|          | 0/1000 [00:00<?, ? examples/s]"
      ],
      "application/vnd.jupyter.widget-view+json": {
       "version_major": 2,
       "version_minor": 0,
       "model_id": "29e063a6fc8a4de9a71a163db35a22b8"
      }
     },
     "metadata": {},
     "output_type": "display_data"
    },
    {
     "data": {
      "text/plain": [
       "Filter:   0%|          | 0/1000 [00:00<?, ? examples/s]"
      ],
      "application/vnd.jupyter.widget-view+json": {
       "version_major": 2,
       "version_minor": 0,
       "model_id": "aa580f70979c46718140a4d4412c78e5"
      }
     },
     "metadata": {},
     "output_type": "display_data"
    },
    {
     "data": {
      "text/plain": [
       "Filter:   0%|          | 0/13375 [00:00<?, ? examples/s]"
      ],
      "application/vnd.jupyter.widget-view+json": {
       "version_major": 2,
       "version_minor": 0,
       "model_id": "c5e6bf23e0c84d6dbb7a49e60c24ceb2"
      }
     },
     "metadata": {},
     "output_type": "display_data"
    },
    {
     "data": {
      "text/plain": [
       "Filter:   0%|          | 0/1200 [00:00<?, ? examples/s]"
      ],
      "application/vnd.jupyter.widget-view+json": {
       "version_major": 2,
       "version_minor": 0,
       "model_id": "24aa460a70504ad08bf6b3455c100a64"
      }
     },
     "metadata": {},
     "output_type": "display_data"
    },
    {
     "data": {
      "text/plain": [
       "Filter:   0%|          | 0/1200 [00:00<?, ? examples/s]"
      ],
      "application/vnd.jupyter.widget-view+json": {
       "version_major": 2,
       "version_minor": 0,
       "model_id": "1007597688d94e91b9017cfd388cbdfe"
      }
     },
     "metadata": {},
     "output_type": "display_data"
    },
    {
     "name": "stderr",
     "output_type": "stream",
     "text": [
      "100%|██████████| 1000/1000 [00:12<00:00, 79.58it/s]\n",
      "100%|██████████| 1000/1000 [00:12<00:00, 81.68it/s]\n",
      "100%|██████████| 1200/1200 [00:14<00:00, 80.20it/s]\n"
     ]
    }
   ],
   "execution_count": 36
  },
  {
   "metadata": {
    "ExecuteTime": {
     "end_time": "2025-07-07T15:41:57.881798Z",
     "start_time": "2025-07-07T15:41:57.876258Z"
    }
   },
   "cell_type": "code",
   "source": [
    "pred_labels_r1 = [x['pred_label'] for x in pred_test_r1]\n",
    "gold_labels_r1 = [x['gold_label'] for x in pred_test_r1]\n",
    "pred_labels_r2 = [x['pred_label'] for x in pred_test_r2]\n",
    "gold_labels_r2 = [x['gold_label'] for x in pred_test_r2]\n",
    "pred_labels_r3 = [x['pred_label'] for x in pred_test_r3]\n",
    "gold_labels_r3 = [x['gold_label'] for x in pred_test_r3]"
   ],
   "id": "ae0ceb2a76935c9a",
   "outputs": [],
   "execution_count": 45
  },
  {
   "metadata": {
    "ExecuteTime": {
     "end_time": "2025-07-07T15:38:44.286284Z",
     "start_time": "2025-07-07T15:38:44.270906Z"
    }
   },
   "cell_type": "code",
   "source": "gold_labels_r1",
   "id": "c7ebd37bf28cd396",
   "outputs": [
    {
     "data": {
      "text/plain": [
       "['entailment',\n",
       " 'entailment',\n",
       " 'entailment',\n",
       " 'neutral',\n",
       " 'contradiction',\n",
       " 'neutral',\n",
       " 'neutral',\n",
       " 'contradiction',\n",
       " 'neutral',\n",
       " 'contradiction',\n",
       " 'entailment',\n",
       " 'entailment',\n",
       " 'contradiction',\n",
       " 'contradiction',\n",
       " 'contradiction',\n",
       " 'entailment',\n",
       " 'entailment',\n",
       " 'contradiction',\n",
       " 'neutral',\n",
       " 'entailment',\n",
       " 'neutral',\n",
       " 'contradiction',\n",
       " 'contradiction',\n",
       " 'contradiction',\n",
       " 'neutral',\n",
       " 'entailment',\n",
       " 'entailment',\n",
       " 'contradiction',\n",
       " 'entailment',\n",
       " 'neutral',\n",
       " 'neutral',\n",
       " 'entailment',\n",
       " 'entailment',\n",
       " 'contradiction',\n",
       " 'entailment',\n",
       " 'contradiction',\n",
       " 'neutral',\n",
       " 'contradiction',\n",
       " 'neutral',\n",
       " 'contradiction',\n",
       " 'entailment',\n",
       " 'contradiction',\n",
       " 'contradiction',\n",
       " 'entailment',\n",
       " 'neutral',\n",
       " 'neutral',\n",
       " 'neutral',\n",
       " 'contradiction',\n",
       " 'neutral',\n",
       " 'neutral',\n",
       " 'neutral',\n",
       " 'contradiction',\n",
       " 'entailment',\n",
       " 'neutral',\n",
       " 'entailment',\n",
       " 'contradiction',\n",
       " 'neutral',\n",
       " 'entailment',\n",
       " 'entailment',\n",
       " 'entailment',\n",
       " 'contradiction',\n",
       " 'entailment',\n",
       " 'entailment',\n",
       " 'contradiction',\n",
       " 'contradiction',\n",
       " 'contradiction',\n",
       " 'neutral',\n",
       " 'neutral',\n",
       " 'contradiction',\n",
       " 'contradiction',\n",
       " 'entailment',\n",
       " 'entailment',\n",
       " 'neutral',\n",
       " 'neutral',\n",
       " 'entailment',\n",
       " 'entailment',\n",
       " 'entailment',\n",
       " 'entailment',\n",
       " 'entailment',\n",
       " 'entailment',\n",
       " 'contradiction',\n",
       " 'entailment',\n",
       " 'neutral',\n",
       " 'entailment',\n",
       " 'neutral',\n",
       " 'entailment',\n",
       " 'entailment',\n",
       " 'neutral',\n",
       " 'neutral',\n",
       " 'neutral',\n",
       " 'entailment',\n",
       " 'neutral',\n",
       " 'contradiction',\n",
       " 'contradiction',\n",
       " 'neutral',\n",
       " 'entailment',\n",
       " 'contradiction',\n",
       " 'entailment',\n",
       " 'entailment',\n",
       " 'contradiction',\n",
       " 'entailment',\n",
       " 'neutral',\n",
       " 'entailment',\n",
       " 'neutral',\n",
       " 'entailment',\n",
       " 'neutral',\n",
       " 'neutral',\n",
       " 'neutral',\n",
       " 'entailment',\n",
       " 'contradiction',\n",
       " 'contradiction',\n",
       " 'neutral',\n",
       " 'entailment',\n",
       " 'entailment',\n",
       " 'entailment',\n",
       " 'neutral',\n",
       " 'entailment',\n",
       " 'neutral',\n",
       " 'neutral',\n",
       " 'neutral',\n",
       " 'contradiction',\n",
       " 'contradiction',\n",
       " 'neutral',\n",
       " 'neutral',\n",
       " 'entailment',\n",
       " 'neutral',\n",
       " 'entailment',\n",
       " 'entailment',\n",
       " 'neutral',\n",
       " 'entailment',\n",
       " 'neutral',\n",
       " 'contradiction',\n",
       " 'entailment',\n",
       " 'neutral',\n",
       " 'neutral',\n",
       " 'neutral',\n",
       " 'contradiction',\n",
       " 'contradiction',\n",
       " 'entailment',\n",
       " 'contradiction',\n",
       " 'contradiction',\n",
       " 'contradiction',\n",
       " 'entailment',\n",
       " 'entailment',\n",
       " 'neutral',\n",
       " 'neutral',\n",
       " 'contradiction',\n",
       " 'contradiction',\n",
       " 'neutral',\n",
       " 'contradiction',\n",
       " 'entailment',\n",
       " 'neutral',\n",
       " 'entailment',\n",
       " 'contradiction',\n",
       " 'neutral',\n",
       " 'entailment',\n",
       " 'contradiction',\n",
       " 'neutral',\n",
       " 'neutral',\n",
       " 'contradiction',\n",
       " 'contradiction',\n",
       " 'neutral',\n",
       " 'neutral',\n",
       " 'neutral',\n",
       " 'entailment',\n",
       " 'neutral',\n",
       " 'contradiction',\n",
       " 'neutral',\n",
       " 'contradiction',\n",
       " 'neutral',\n",
       " 'contradiction',\n",
       " 'entailment',\n",
       " 'contradiction',\n",
       " 'neutral',\n",
       " 'contradiction',\n",
       " 'contradiction',\n",
       " 'contradiction',\n",
       " 'contradiction',\n",
       " 'contradiction',\n",
       " 'neutral',\n",
       " 'neutral',\n",
       " 'contradiction',\n",
       " 'neutral',\n",
       " 'contradiction',\n",
       " 'entailment',\n",
       " 'contradiction',\n",
       " 'neutral',\n",
       " 'entailment',\n",
       " 'contradiction',\n",
       " 'contradiction',\n",
       " 'neutral',\n",
       " 'contradiction',\n",
       " 'contradiction',\n",
       " 'contradiction',\n",
       " 'contradiction',\n",
       " 'contradiction',\n",
       " 'entailment',\n",
       " 'entailment',\n",
       " 'contradiction',\n",
       " 'neutral',\n",
       " 'neutral',\n",
       " 'contradiction',\n",
       " 'neutral',\n",
       " 'entailment',\n",
       " 'contradiction',\n",
       " 'contradiction',\n",
       " 'contradiction',\n",
       " 'contradiction',\n",
       " 'entailment',\n",
       " 'neutral',\n",
       " 'contradiction',\n",
       " 'neutral',\n",
       " 'contradiction',\n",
       " 'entailment',\n",
       " 'contradiction',\n",
       " 'entailment',\n",
       " 'contradiction',\n",
       " 'entailment',\n",
       " 'entailment',\n",
       " 'neutral',\n",
       " 'entailment',\n",
       " 'entailment',\n",
       " 'contradiction',\n",
       " 'neutral',\n",
       " 'entailment',\n",
       " 'entailment',\n",
       " 'neutral',\n",
       " 'entailment',\n",
       " 'contradiction',\n",
       " 'entailment',\n",
       " 'neutral',\n",
       " 'neutral',\n",
       " 'entailment',\n",
       " 'contradiction',\n",
       " 'neutral',\n",
       " 'entailment',\n",
       " 'contradiction',\n",
       " 'neutral',\n",
       " 'entailment',\n",
       " 'neutral',\n",
       " 'entailment',\n",
       " 'contradiction',\n",
       " 'contradiction',\n",
       " 'entailment',\n",
       " 'neutral',\n",
       " 'neutral',\n",
       " 'neutral',\n",
       " 'entailment',\n",
       " 'contradiction',\n",
       " 'entailment',\n",
       " 'entailment',\n",
       " 'entailment',\n",
       " 'contradiction',\n",
       " 'entailment',\n",
       " 'neutral',\n",
       " 'contradiction',\n",
       " 'contradiction',\n",
       " 'entailment',\n",
       " 'entailment',\n",
       " 'neutral',\n",
       " 'entailment',\n",
       " 'entailment',\n",
       " 'neutral',\n",
       " 'entailment',\n",
       " 'neutral',\n",
       " 'neutral',\n",
       " 'neutral',\n",
       " 'entailment',\n",
       " 'neutral',\n",
       " 'neutral',\n",
       " 'neutral',\n",
       " 'neutral',\n",
       " 'entailment',\n",
       " 'entailment',\n",
       " 'entailment',\n",
       " 'entailment',\n",
       " 'entailment',\n",
       " 'contradiction',\n",
       " 'entailment',\n",
       " 'neutral',\n",
       " 'entailment',\n",
       " 'entailment',\n",
       " 'neutral',\n",
       " 'neutral',\n",
       " 'neutral',\n",
       " 'contradiction',\n",
       " 'entailment',\n",
       " 'contradiction',\n",
       " 'neutral',\n",
       " 'neutral',\n",
       " 'contradiction',\n",
       " 'entailment',\n",
       " 'contradiction',\n",
       " 'entailment',\n",
       " 'neutral',\n",
       " 'contradiction',\n",
       " 'entailment',\n",
       " 'entailment',\n",
       " 'contradiction',\n",
       " 'contradiction',\n",
       " 'entailment',\n",
       " 'contradiction',\n",
       " 'entailment',\n",
       " 'entailment',\n",
       " 'neutral',\n",
       " 'entailment',\n",
       " 'contradiction',\n",
       " 'contradiction',\n",
       " 'entailment',\n",
       " 'neutral',\n",
       " 'neutral',\n",
       " 'neutral',\n",
       " 'entailment',\n",
       " 'neutral',\n",
       " 'contradiction',\n",
       " 'entailment',\n",
       " 'neutral',\n",
       " 'entailment',\n",
       " 'entailment',\n",
       " 'contradiction',\n",
       " 'contradiction',\n",
       " 'contradiction',\n",
       " 'contradiction',\n",
       " 'neutral',\n",
       " 'entailment',\n",
       " 'contradiction',\n",
       " 'neutral',\n",
       " 'contradiction',\n",
       " 'entailment',\n",
       " 'entailment',\n",
       " 'entailment',\n",
       " 'neutral',\n",
       " 'neutral',\n",
       " 'neutral',\n",
       " 'entailment',\n",
       " 'entailment',\n",
       " 'contradiction',\n",
       " 'neutral',\n",
       " 'neutral',\n",
       " 'neutral',\n",
       " 'contradiction',\n",
       " 'contradiction',\n",
       " 'contradiction',\n",
       " 'entailment',\n",
       " 'neutral',\n",
       " 'entailment',\n",
       " 'neutral',\n",
       " 'neutral',\n",
       " 'neutral',\n",
       " 'contradiction',\n",
       " 'entailment',\n",
       " 'neutral',\n",
       " 'neutral',\n",
       " 'neutral',\n",
       " 'neutral',\n",
       " 'entailment',\n",
       " 'contradiction',\n",
       " 'neutral',\n",
       " 'neutral',\n",
       " 'entailment',\n",
       " 'neutral',\n",
       " 'contradiction',\n",
       " 'contradiction',\n",
       " 'contradiction',\n",
       " 'neutral',\n",
       " 'neutral',\n",
       " 'contradiction',\n",
       " 'entailment',\n",
       " 'entailment',\n",
       " 'entailment',\n",
       " 'contradiction',\n",
       " 'neutral',\n",
       " 'entailment',\n",
       " 'entailment',\n",
       " 'contradiction',\n",
       " 'entailment',\n",
       " 'contradiction',\n",
       " 'contradiction',\n",
       " 'entailment',\n",
       " 'entailment',\n",
       " 'contradiction',\n",
       " 'neutral',\n",
       " 'neutral',\n",
       " 'entailment',\n",
       " 'neutral',\n",
       " 'entailment',\n",
       " 'contradiction',\n",
       " 'neutral',\n",
       " 'entailment',\n",
       " 'contradiction',\n",
       " 'neutral',\n",
       " 'contradiction',\n",
       " 'entailment',\n",
       " 'contradiction',\n",
       " 'entailment',\n",
       " 'neutral',\n",
       " 'entailment',\n",
       " 'entailment',\n",
       " 'neutral',\n",
       " 'neutral',\n",
       " 'contradiction',\n",
       " 'contradiction',\n",
       " 'contradiction',\n",
       " 'contradiction',\n",
       " 'contradiction',\n",
       " 'contradiction',\n",
       " 'entailment',\n",
       " 'neutral',\n",
       " 'neutral',\n",
       " 'contradiction',\n",
       " 'neutral',\n",
       " 'entailment',\n",
       " 'neutral',\n",
       " 'entailment',\n",
       " 'neutral',\n",
       " 'contradiction',\n",
       " 'contradiction',\n",
       " 'neutral',\n",
       " 'contradiction',\n",
       " 'entailment',\n",
       " 'contradiction',\n",
       " 'entailment',\n",
       " 'entailment',\n",
       " 'neutral',\n",
       " 'entailment',\n",
       " 'entailment',\n",
       " 'neutral',\n",
       " 'entailment',\n",
       " 'entailment',\n",
       " 'neutral',\n",
       " 'entailment',\n",
       " 'entailment',\n",
       " 'entailment',\n",
       " 'entailment',\n",
       " 'entailment',\n",
       " 'entailment',\n",
       " 'contradiction',\n",
       " 'entailment',\n",
       " 'neutral',\n",
       " 'entailment',\n",
       " 'entailment',\n",
       " 'contradiction',\n",
       " 'neutral',\n",
       " 'entailment',\n",
       " 'entailment',\n",
       " 'neutral',\n",
       " 'contradiction',\n",
       " 'neutral',\n",
       " 'contradiction',\n",
       " 'entailment',\n",
       " 'neutral',\n",
       " 'contradiction',\n",
       " 'neutral',\n",
       " 'entailment',\n",
       " 'entailment',\n",
       " 'contradiction',\n",
       " 'neutral',\n",
       " 'contradiction',\n",
       " 'contradiction',\n",
       " 'contradiction',\n",
       " 'entailment',\n",
       " 'contradiction',\n",
       " 'entailment',\n",
       " 'entailment',\n",
       " 'neutral',\n",
       " 'neutral',\n",
       " 'entailment',\n",
       " 'entailment',\n",
       " 'entailment',\n",
       " 'entailment',\n",
       " 'neutral',\n",
       " 'neutral',\n",
       " 'entailment',\n",
       " 'contradiction',\n",
       " 'contradiction',\n",
       " 'entailment',\n",
       " 'contradiction',\n",
       " 'contradiction',\n",
       " 'neutral',\n",
       " 'neutral',\n",
       " 'neutral',\n",
       " 'contradiction',\n",
       " 'entailment',\n",
       " 'neutral',\n",
       " 'neutral',\n",
       " 'neutral',\n",
       " 'contradiction',\n",
       " 'contradiction',\n",
       " 'entailment',\n",
       " 'contradiction',\n",
       " 'entailment',\n",
       " 'entailment',\n",
       " 'entailment',\n",
       " 'entailment',\n",
       " 'entailment',\n",
       " 'neutral',\n",
       " 'neutral',\n",
       " 'contradiction',\n",
       " 'entailment',\n",
       " 'entailment',\n",
       " 'entailment',\n",
       " 'contradiction',\n",
       " 'entailment',\n",
       " 'contradiction',\n",
       " 'contradiction',\n",
       " 'neutral',\n",
       " 'neutral',\n",
       " 'contradiction',\n",
       " 'neutral',\n",
       " 'neutral',\n",
       " 'entailment',\n",
       " 'entailment',\n",
       " 'entailment',\n",
       " 'entailment',\n",
       " 'entailment',\n",
       " 'neutral',\n",
       " 'contradiction',\n",
       " 'entailment',\n",
       " 'contradiction',\n",
       " 'neutral',\n",
       " 'entailment',\n",
       " 'entailment',\n",
       " 'neutral',\n",
       " 'entailment',\n",
       " 'neutral',\n",
       " 'entailment',\n",
       " 'neutral',\n",
       " 'neutral',\n",
       " 'contradiction',\n",
       " 'neutral',\n",
       " 'contradiction',\n",
       " 'entailment',\n",
       " 'entailment',\n",
       " 'contradiction',\n",
       " 'neutral',\n",
       " 'contradiction',\n",
       " 'contradiction',\n",
       " 'entailment',\n",
       " 'neutral',\n",
       " 'neutral',\n",
       " 'entailment',\n",
       " 'entailment',\n",
       " 'contradiction',\n",
       " 'entailment',\n",
       " 'neutral',\n",
       " 'neutral',\n",
       " 'entailment',\n",
       " 'neutral',\n",
       " 'neutral',\n",
       " 'neutral',\n",
       " 'contradiction',\n",
       " 'contradiction',\n",
       " 'entailment',\n",
       " 'neutral',\n",
       " 'neutral',\n",
       " 'entailment',\n",
       " 'neutral',\n",
       " 'neutral',\n",
       " 'neutral',\n",
       " 'contradiction',\n",
       " 'entailment',\n",
       " 'contradiction',\n",
       " 'contradiction',\n",
       " 'contradiction',\n",
       " 'contradiction',\n",
       " 'contradiction',\n",
       " 'contradiction',\n",
       " 'contradiction',\n",
       " 'neutral',\n",
       " 'entailment',\n",
       " 'contradiction',\n",
       " 'entailment',\n",
       " 'contradiction',\n",
       " 'neutral',\n",
       " 'contradiction',\n",
       " 'contradiction',\n",
       " 'neutral',\n",
       " 'entailment',\n",
       " 'entailment',\n",
       " 'neutral',\n",
       " 'entailment',\n",
       " 'contradiction',\n",
       " 'neutral',\n",
       " 'entailment',\n",
       " 'contradiction',\n",
       " 'contradiction',\n",
       " 'entailment',\n",
       " 'neutral',\n",
       " 'entailment',\n",
       " 'entailment',\n",
       " 'contradiction',\n",
       " 'neutral',\n",
       " 'contradiction',\n",
       " 'entailment',\n",
       " 'entailment',\n",
       " 'entailment',\n",
       " 'entailment',\n",
       " 'neutral',\n",
       " 'contradiction',\n",
       " 'neutral',\n",
       " 'neutral',\n",
       " 'neutral',\n",
       " 'entailment',\n",
       " 'contradiction',\n",
       " 'entailment',\n",
       " 'entailment',\n",
       " 'entailment',\n",
       " 'contradiction',\n",
       " 'neutral',\n",
       " 'neutral',\n",
       " 'neutral',\n",
       " 'entailment',\n",
       " 'contradiction',\n",
       " 'contradiction',\n",
       " 'contradiction',\n",
       " 'entailment',\n",
       " 'neutral',\n",
       " 'neutral',\n",
       " 'entailment',\n",
       " 'entailment',\n",
       " 'contradiction',\n",
       " 'contradiction',\n",
       " 'neutral',\n",
       " 'contradiction',\n",
       " 'neutral',\n",
       " 'entailment',\n",
       " 'neutral',\n",
       " 'contradiction',\n",
       " 'contradiction',\n",
       " 'entailment',\n",
       " 'entailment',\n",
       " 'contradiction',\n",
       " 'neutral',\n",
       " 'contradiction',\n",
       " 'neutral',\n",
       " 'neutral',\n",
       " 'neutral',\n",
       " 'neutral',\n",
       " 'contradiction',\n",
       " 'neutral',\n",
       " 'entailment',\n",
       " 'contradiction',\n",
       " 'entailment',\n",
       " 'neutral',\n",
       " 'contradiction',\n",
       " 'contradiction',\n",
       " 'entailment',\n",
       " 'neutral',\n",
       " 'neutral',\n",
       " 'neutral',\n",
       " 'neutral',\n",
       " 'contradiction',\n",
       " 'contradiction',\n",
       " 'neutral',\n",
       " 'contradiction',\n",
       " 'entailment',\n",
       " 'contradiction',\n",
       " 'entailment',\n",
       " 'neutral',\n",
       " 'entailment',\n",
       " 'neutral',\n",
       " 'neutral',\n",
       " 'entailment',\n",
       " 'contradiction',\n",
       " 'neutral',\n",
       " 'contradiction',\n",
       " 'entailment',\n",
       " 'neutral',\n",
       " 'contradiction',\n",
       " 'neutral',\n",
       " 'contradiction',\n",
       " 'contradiction',\n",
       " 'contradiction',\n",
       " 'entailment',\n",
       " 'entailment',\n",
       " 'neutral',\n",
       " 'neutral',\n",
       " 'entailment',\n",
       " 'contradiction',\n",
       " 'entailment',\n",
       " 'contradiction',\n",
       " 'entailment',\n",
       " 'entailment',\n",
       " 'neutral',\n",
       " 'contradiction',\n",
       " 'contradiction',\n",
       " 'entailment',\n",
       " 'neutral',\n",
       " 'entailment',\n",
       " 'contradiction',\n",
       " 'neutral',\n",
       " 'contradiction',\n",
       " 'contradiction',\n",
       " 'contradiction',\n",
       " 'contradiction',\n",
       " 'entailment',\n",
       " 'neutral',\n",
       " 'contradiction',\n",
       " 'neutral',\n",
       " 'neutral',\n",
       " 'contradiction',\n",
       " 'contradiction',\n",
       " 'neutral',\n",
       " 'contradiction',\n",
       " 'contradiction',\n",
       " 'contradiction',\n",
       " 'entailment',\n",
       " 'neutral',\n",
       " 'entailment',\n",
       " 'neutral',\n",
       " 'neutral',\n",
       " 'contradiction',\n",
       " 'contradiction',\n",
       " 'neutral',\n",
       " 'contradiction',\n",
       " 'entailment',\n",
       " 'entailment',\n",
       " 'entailment',\n",
       " 'entailment',\n",
       " 'contradiction',\n",
       " 'neutral',\n",
       " 'contradiction',\n",
       " 'entailment',\n",
       " 'contradiction',\n",
       " 'neutral',\n",
       " 'contradiction',\n",
       " 'neutral',\n",
       " 'contradiction',\n",
       " 'entailment',\n",
       " 'neutral',\n",
       " 'entailment',\n",
       " 'entailment',\n",
       " 'contradiction',\n",
       " 'contradiction',\n",
       " 'entailment',\n",
       " 'entailment',\n",
       " 'neutral',\n",
       " 'neutral',\n",
       " 'neutral',\n",
       " 'neutral',\n",
       " 'neutral',\n",
       " 'entailment',\n",
       " 'contradiction',\n",
       " 'contradiction',\n",
       " 'entailment',\n",
       " 'entailment',\n",
       " 'contradiction',\n",
       " 'contradiction',\n",
       " 'entailment',\n",
       " 'contradiction',\n",
       " 'neutral',\n",
       " 'contradiction',\n",
       " 'contradiction',\n",
       " 'neutral',\n",
       " 'entailment',\n",
       " 'neutral',\n",
       " 'neutral',\n",
       " 'contradiction',\n",
       " 'entailment',\n",
       " 'contradiction',\n",
       " 'neutral',\n",
       " 'entailment',\n",
       " 'entailment',\n",
       " 'contradiction',\n",
       " 'contradiction',\n",
       " 'neutral',\n",
       " 'neutral',\n",
       " 'contradiction',\n",
       " 'neutral',\n",
       " 'contradiction',\n",
       " 'neutral',\n",
       " 'neutral',\n",
       " 'entailment',\n",
       " 'entailment',\n",
       " 'entailment',\n",
       " 'contradiction',\n",
       " 'contradiction',\n",
       " 'neutral',\n",
       " 'entailment',\n",
       " 'neutral',\n",
       " 'neutral',\n",
       " 'neutral',\n",
       " 'contradiction',\n",
       " 'contradiction',\n",
       " 'entailment',\n",
       " 'contradiction',\n",
       " 'entailment',\n",
       " 'contradiction',\n",
       " 'neutral',\n",
       " 'entailment',\n",
       " 'contradiction',\n",
       " 'contradiction',\n",
       " 'neutral',\n",
       " 'neutral',\n",
       " 'contradiction',\n",
       " 'neutral',\n",
       " 'entailment',\n",
       " 'contradiction',\n",
       " 'neutral',\n",
       " 'neutral',\n",
       " 'neutral',\n",
       " 'contradiction',\n",
       " 'contradiction',\n",
       " 'neutral',\n",
       " 'entailment',\n",
       " 'entailment',\n",
       " 'neutral',\n",
       " 'neutral',\n",
       " 'neutral',\n",
       " 'contradiction',\n",
       " 'contradiction',\n",
       " 'contradiction',\n",
       " 'contradiction',\n",
       " 'neutral',\n",
       " 'neutral',\n",
       " 'contradiction',\n",
       " 'neutral',\n",
       " 'neutral',\n",
       " 'entailment',\n",
       " 'entailment',\n",
       " 'contradiction',\n",
       " 'contradiction',\n",
       " 'entailment',\n",
       " 'entailment',\n",
       " 'entailment',\n",
       " 'contradiction',\n",
       " 'neutral',\n",
       " 'entailment',\n",
       " 'entailment',\n",
       " 'neutral',\n",
       " 'entailment',\n",
       " 'contradiction',\n",
       " 'neutral',\n",
       " 'neutral',\n",
       " 'neutral',\n",
       " 'contradiction',\n",
       " 'contradiction',\n",
       " 'entailment',\n",
       " 'contradiction',\n",
       " 'neutral',\n",
       " 'contradiction',\n",
       " 'entailment',\n",
       " 'entailment',\n",
       " 'entailment',\n",
       " 'entailment',\n",
       " 'contradiction',\n",
       " 'entailment',\n",
       " 'contradiction',\n",
       " 'neutral',\n",
       " 'entailment',\n",
       " 'entailment',\n",
       " 'entailment',\n",
       " 'neutral',\n",
       " 'entailment',\n",
       " 'contradiction',\n",
       " 'neutral',\n",
       " 'neutral',\n",
       " 'contradiction',\n",
       " 'contradiction',\n",
       " 'entailment',\n",
       " 'contradiction',\n",
       " 'entailment',\n",
       " 'entailment',\n",
       " 'contradiction',\n",
       " 'entailment',\n",
       " 'neutral',\n",
       " 'contradiction',\n",
       " 'neutral',\n",
       " 'contradiction',\n",
       " 'contradiction',\n",
       " 'neutral',\n",
       " 'neutral',\n",
       " 'contradiction',\n",
       " 'neutral',\n",
       " 'contradiction',\n",
       " 'entailment',\n",
       " 'entailment',\n",
       " 'contradiction',\n",
       " 'entailment',\n",
       " 'neutral',\n",
       " 'neutral',\n",
       " 'entailment',\n",
       " 'entailment',\n",
       " 'entailment',\n",
       " 'neutral',\n",
       " 'contradiction',\n",
       " 'entailment',\n",
       " 'entailment',\n",
       " 'neutral',\n",
       " 'entailment',\n",
       " 'neutral',\n",
       " 'entailment',\n",
       " 'entailment',\n",
       " 'neutral',\n",
       " 'contradiction',\n",
       " 'entailment',\n",
       " 'contradiction',\n",
       " 'contradiction',\n",
       " 'neutral',\n",
       " 'entailment',\n",
       " 'contradiction',\n",
       " 'contradiction',\n",
       " 'entailment',\n",
       " 'neutral',\n",
       " 'contradiction',\n",
       " 'neutral',\n",
       " 'contradiction',\n",
       " 'contradiction',\n",
       " 'contradiction',\n",
       " 'contradiction',\n",
       " 'neutral',\n",
       " 'neutral',\n",
       " 'entailment',\n",
       " 'entailment',\n",
       " 'contradiction',\n",
       " 'entailment',\n",
       " 'entailment',\n",
       " 'entailment',\n",
       " 'neutral',\n",
       " 'neutral',\n",
       " 'entailment',\n",
       " 'contradiction',\n",
       " 'contradiction',\n",
       " 'contradiction',\n",
       " 'contradiction',\n",
       " 'neutral',\n",
       " 'entailment',\n",
       " 'contradiction',\n",
       " 'neutral',\n",
       " 'entailment',\n",
       " 'neutral',\n",
       " 'entailment',\n",
       " 'contradiction',\n",
       " 'neutral',\n",
       " 'neutral',\n",
       " 'contradiction',\n",
       " 'neutral',\n",
       " 'entailment',\n",
       " 'entailment',\n",
       " 'contradiction',\n",
       " 'neutral',\n",
       " 'contradiction',\n",
       " 'contradiction',\n",
       " 'contradiction',\n",
       " 'contradiction',\n",
       " 'neutral',\n",
       " 'neutral',\n",
       " 'contradiction',\n",
       " 'contradiction',\n",
       " 'neutral',\n",
       " 'entailment',\n",
       " 'neutral',\n",
       " 'entailment',\n",
       " 'neutral',\n",
       " 'neutral',\n",
       " 'contradiction',\n",
       " 'contradiction',\n",
       " 'contradiction',\n",
       " 'contradiction',\n",
       " 'entailment',\n",
       " 'entailment',\n",
       " 'entailment',\n",
       " 'neutral',\n",
       " 'contradiction',\n",
       " 'neutral',\n",
       " 'contradiction',\n",
       " 'contradiction',\n",
       " 'contradiction',\n",
       " 'neutral',\n",
       " 'neutral',\n",
       " 'contradiction',\n",
       " 'entailment',\n",
       " 'entailment',\n",
       " 'neutral',\n",
       " 'contradiction',\n",
       " 'contradiction',\n",
       " 'neutral',\n",
       " 'contradiction',\n",
       " 'contradiction',\n",
       " 'neutral',\n",
       " 'contradiction',\n",
       " 'contradiction',\n",
       " 'contradiction',\n",
       " 'neutral',\n",
       " 'entailment',\n",
       " 'neutral',\n",
       " 'entailment',\n",
       " 'contradiction',\n",
       " 'neutral',\n",
       " 'contradiction',\n",
       " 'entailment',\n",
       " 'neutral',\n",
       " 'neutral',\n",
       " 'neutral',\n",
       " 'neutral',\n",
       " 'entailment',\n",
       " 'neutral',\n",
       " 'entailment',\n",
       " 'neutral',\n",
       " 'contradiction']"
      ]
     },
     "execution_count": 40,
     "metadata": {},
     "output_type": "execute_result"
    }
   ],
   "execution_count": 40
  },
  {
   "metadata": {
    "ExecuteTime": {
     "end_time": "2025-07-07T15:43:28.803465Z",
     "start_time": "2025-07-07T15:43:28.765287Z"
    }
   },
   "cell_type": "code",
   "source": [
    "from sklearn.metrics import classification_report\n",
    "#Classification report on r1_test\n",
    "print(\"Classification report on r1_test\")\n",
    "print(classification_report(gold_labels_r1, pred_labels_r1))\n",
    "print(\"Classification report on r2_test\")\n",
    "print(classification_report(gold_labels_r2, pred_labels_r2))\n",
    "print(\"Classification report on r3_test\")\n",
    "print(classification_report(gold_labels_r3, pred_labels_r3))"
   ],
   "id": "7b63175833eca6be",
   "outputs": [
    {
     "name": "stdout",
     "output_type": "stream",
     "text": [
      "Classification report on r1_test\n",
      "               precision    recall  f1-score   support\n",
      "\n",
      "contradiction       0.55      0.77      0.64       333\n",
      "   entailment       0.70      0.73      0.71       334\n",
      "      neutral       0.66      0.35      0.46       333\n",
      "\n",
      "     accuracy                           0.62      1000\n",
      "    macro avg       0.63      0.62      0.60      1000\n",
      " weighted avg       0.63      0.62      0.60      1000\n",
      "\n",
      "Classification report on r2_test\n",
      "               precision    recall  f1-score   support\n",
      "\n",
      "contradiction       0.48      0.67      0.56       333\n",
      "   entailment       0.54      0.57      0.55       334\n",
      "      neutral       0.51      0.28      0.36       333\n",
      "\n",
      "     accuracy                           0.50      1000\n",
      "    macro avg       0.51      0.50      0.49      1000\n",
      " weighted avg       0.51      0.50      0.49      1000\n",
      "\n",
      "Classification report on r3_test\n",
      "               precision    recall  f1-score   support\n",
      "\n",
      "contradiction       0.48      0.66      0.55       396\n",
      "   entailment       0.56      0.57      0.56       402\n",
      "      neutral       0.36      0.22      0.27       402\n",
      "\n",
      "     accuracy                           0.48      1200\n",
      "    macro avg       0.47      0.48      0.46      1200\n",
      " weighted avg       0.47      0.48      0.46      1200\n",
      "\n"
     ]
    }
   ],
   "execution_count": 47
  }
 ],
 "metadata": {
  "kernelspec": {
   "display_name": ".venv",
   "language": "python",
   "name": "python3"
  },
  "language_info": {
   "codemirror_mode": {
    "name": "ipython",
    "version": 3
   },
   "file_extension": ".py",
   "mimetype": "text/x-python",
   "name": "python",
   "nbconvert_exporter": "python",
   "pygments_lexer": "ipython3",
   "version": "3.11.5"
  }
 },
 "nbformat": 4,
 "nbformat_minor": 5
}
