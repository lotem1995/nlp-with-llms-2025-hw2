{
 "cells": [
  {
   "cell_type": "markdown",
   "id": "c468709d",
   "metadata": {},
   "source": [
    "# ImpPres Baseline\n",
    "\n",
    "This notebook illustrates how to use the DeBERTa-v3-base-mnli-fever-anli model to perform specialized inference on the ImpPres dataset."
   ]
  },
  {
   "cell_type": "code",
   "id": "2cec0d02",
   "metadata": {
    "ExecuteTime": {
     "end_time": "2025-07-15T08:11:43.319271Z",
     "start_time": "2025-07-15T08:11:42.225411Z"
    }
   },
   "source": [
    "from transformers import AutoTokenizer, AutoModelForSequenceClassification\n",
    "from evaluate import load, combine\n",
    "import torch\n",
    "import pandas as pd\n",
    "device = torch.device(\"cuda\") if torch.cuda.is_available() else torch.device(\"cpu\")\n",
    "\n",
    "model_name = \"MoritzLaurer/DeBERTa-v3-base-mnli-fever-anli\"\n",
    "tokenizer = AutoTokenizer.from_pretrained(model_name)\n",
    "model = AutoModelForSequenceClassification.from_pretrained(model_name).to(device)"
   ],
   "outputs": [],
   "execution_count": 15
  },
  {
   "cell_type": "code",
   "id": "0cfe31ba",
   "metadata": {
    "ExecuteTime": {
     "end_time": "2025-07-15T08:00:40.683563Z",
     "start_time": "2025-07-15T08:00:40.680204Z"
    }
   },
   "source": [
    "label_names = [\"entailment\", \"neutral\", \"contradiction\"]\n",
    "def evaluate(premise, hypothesis):\n",
    "    input = tokenizer(premise, hypothesis, truncation=True, return_tensors=\"pt\")\n",
    "    output = model(input[\"input_ids\"].to(device))\n",
    "    prediction = torch.softmax(output[\"logits\"][0], -1).tolist()\n",
    "    prediction = {name: round(float(pred) * 100, 1) for pred, name in zip(prediction, label_names)}\n",
    "    return prediction"
   ],
   "outputs": [],
   "execution_count": 3
  },
  {
   "cell_type": "code",
   "id": "a2954d97",
   "metadata": {
    "ExecuteTime": {
     "end_time": "2025-07-15T08:00:40.986541Z",
     "start_time": "2025-07-15T08:00:40.767014Z"
    }
   },
   "source": [
    "evaluate(\"The weather is nice today.\", \"It is sunny outside.\")"
   ],
   "outputs": [
    {
     "name": "stderr",
     "output_type": "stream",
     "text": [
      "Asking to truncate to max_length but no maximum length is provided and the model has no predefined maximum length. Default to no truncation.\n"
     ]
    },
    {
     "data": {
      "text/plain": [
       "{'entailment': 0.1, 'neutral': 99.8, 'contradiction': 0.0}"
      ]
     },
     "execution_count": 4,
     "metadata": {},
     "output_type": "execute_result"
    }
   ],
   "execution_count": 4
  },
  {
   "cell_type": "code",
   "id": "923ea5e0",
   "metadata": {
    "ExecuteTime": {
     "end_time": "2025-07-15T08:00:41.016813Z",
     "start_time": "2025-07-15T08:00:41.014002Z"
    }
   },
   "source": [
    "def get_prediction(pred_dict):\n",
    "    if pred_dict[\"entailment\"] > pred_dict[\"contradiction\"]  and pred_dict[\"entailment\"] > pred_dict[\"neutral\"]:\n",
    "        return \"entailment\"\n",
    "    elif pred_dict[\"contradiction\"] > pred_dict[\"entailment\"] and pred_dict[\"contradiction\"] > pred_dict[\"neutral\"]:\n",
    "        return \"contradiction\"\n",
    "    else:\n",
    "        return \"neutral\""
   ],
   "outputs": [],
   "execution_count": 5
  },
  {
   "cell_type": "markdown",
   "id": "17ab422d",
   "metadata": {},
   "source": [
    "## Load ImpPres Dataset"
   ]
  },
  {
   "cell_type": "code",
   "id": "0438789b",
   "metadata": {
    "ExecuteTime": {
     "end_time": "2025-07-15T08:01:00.115130Z",
     "start_time": "2025-07-15T08:00:41.071761Z"
    }
   },
   "source": [
    "from datasets import load_dataset\n",
    "\n",
    "sections = ['presupposition_all_n_presupposition', \n",
    "            'presupposition_both_presupposition', \n",
    "            'presupposition_change_of_state', \n",
    "            'presupposition_cleft_existence', \n",
    "            'presupposition_cleft_uniqueness', \n",
    "            'presupposition_only_presupposition', \n",
    "            'presupposition_possessed_definites_existence', \n",
    "            'presupposition_possessed_definites_uniqueness', \n",
    "            'presupposition_question_presupposition']\n",
    "\n",
    "dataset = {}\n",
    "for section in sections:\n",
    "    print(f\"Loading dataset for section: {section}\")\n",
    "    dataset[section] = load_dataset(\"facebook/imppres\", section)\n"
   ],
   "outputs": [
    {
     "name": "stdout",
     "output_type": "stream",
     "text": [
      "Loading dataset for section: presupposition_all_n_presupposition\n",
      "Loading dataset for section: presupposition_both_presupposition\n",
      "Loading dataset for section: presupposition_change_of_state\n",
      "Loading dataset for section: presupposition_cleft_existence\n",
      "Loading dataset for section: presupposition_cleft_uniqueness\n",
      "Loading dataset for section: presupposition_only_presupposition\n",
      "Loading dataset for section: presupposition_possessed_definites_existence\n",
      "Loading dataset for section: presupposition_possessed_definites_uniqueness\n",
      "Loading dataset for section: presupposition_question_presupposition\n"
     ]
    }
   ],
   "execution_count": 6
  },
  {
   "cell_type": "code",
   "id": "e59927ea",
   "metadata": {
    "ExecuteTime": {
     "end_time": "2025-07-15T08:01:00.158645Z",
     "start_time": "2025-07-15T08:01:00.155070Z"
    }
   },
   "source": [
    "dataset"
   ],
   "outputs": [
    {
     "data": {
      "text/plain": [
       "{'presupposition_all_n_presupposition': DatasetDict({\n",
       "     all_n_presupposition: Dataset({\n",
       "         features: ['premise', 'hypothesis', 'trigger', 'trigger1', 'trigger2', 'presupposition', 'gold_label', 'UID', 'pairID', 'paradigmID'],\n",
       "         num_rows: 1900\n",
       "     })\n",
       " }),\n",
       " 'presupposition_both_presupposition': DatasetDict({\n",
       "     both_presupposition: Dataset({\n",
       "         features: ['premise', 'hypothesis', 'trigger', 'trigger1', 'trigger2', 'presupposition', 'gold_label', 'UID', 'pairID', 'paradigmID'],\n",
       "         num_rows: 1900\n",
       "     })\n",
       " }),\n",
       " 'presupposition_change_of_state': DatasetDict({\n",
       "     change_of_state: Dataset({\n",
       "         features: ['premise', 'hypothesis', 'trigger', 'trigger1', 'trigger2', 'presupposition', 'gold_label', 'UID', 'pairID', 'paradigmID'],\n",
       "         num_rows: 1900\n",
       "     })\n",
       " }),\n",
       " 'presupposition_cleft_existence': DatasetDict({\n",
       "     cleft_existence: Dataset({\n",
       "         features: ['premise', 'hypothesis', 'trigger', 'trigger1', 'trigger2', 'presupposition', 'gold_label', 'UID', 'pairID', 'paradigmID'],\n",
       "         num_rows: 1900\n",
       "     })\n",
       " }),\n",
       " 'presupposition_cleft_uniqueness': DatasetDict({\n",
       "     cleft_uniqueness: Dataset({\n",
       "         features: ['premise', 'hypothesis', 'trigger', 'trigger1', 'trigger2', 'presupposition', 'gold_label', 'UID', 'pairID', 'paradigmID'],\n",
       "         num_rows: 1900\n",
       "     })\n",
       " }),\n",
       " 'presupposition_only_presupposition': DatasetDict({\n",
       "     only_presupposition: Dataset({\n",
       "         features: ['premise', 'hypothesis', 'trigger', 'trigger1', 'trigger2', 'presupposition', 'gold_label', 'UID', 'pairID', 'paradigmID'],\n",
       "         num_rows: 1900\n",
       "     })\n",
       " }),\n",
       " 'presupposition_possessed_definites_existence': DatasetDict({\n",
       "     possessed_definites_existence: Dataset({\n",
       "         features: ['premise', 'hypothesis', 'trigger', 'trigger1', 'trigger2', 'presupposition', 'gold_label', 'UID', 'pairID', 'paradigmID'],\n",
       "         num_rows: 1900\n",
       "     })\n",
       " }),\n",
       " 'presupposition_possessed_definites_uniqueness': DatasetDict({\n",
       "     possessed_definites_uniqueness: Dataset({\n",
       "         features: ['premise', 'hypothesis', 'trigger', 'trigger1', 'trigger2', 'presupposition', 'gold_label', 'UID', 'pairID', 'paradigmID'],\n",
       "         num_rows: 1900\n",
       "     })\n",
       " }),\n",
       " 'presupposition_question_presupposition': DatasetDict({\n",
       "     question_presupposition: Dataset({\n",
       "         features: ['premise', 'hypothesis', 'trigger', 'trigger1', 'trigger2', 'presupposition', 'gold_label', 'UID', 'pairID', 'paradigmID'],\n",
       "         num_rows: 1900\n",
       "     })\n",
       " })}"
      ]
     },
     "execution_count": 7,
     "metadata": {},
     "output_type": "execute_result"
    }
   ],
   "execution_count": 7
  },
  {
   "cell_type": "code",
   "id": "b8262068",
   "metadata": {
    "ExecuteTime": {
     "end_time": "2025-07-15T08:01:00.260392Z",
     "start_time": "2025-07-15T08:01:00.255734Z"
    }
   },
   "source": [
    "# Evaluate the model on the ImpPres dataset\n",
    "from tqdm import tqdm\n",
    "def evaluate_on_dataset(dataset):\n",
    "    results = []\n",
    "    label_names = [\"entailment\", \"neutral\", \"contradiction\"]\n",
    "    for example in tqdm(dataset):\n",
    "        premise = example['premise']\n",
    "        hypothesis = example['hypothesis']\n",
    "        prediction = evaluate(premise, hypothesis)\n",
    "        results.append({\n",
    "            'premise': premise,\n",
    "            'hypothesis': hypothesis,\n",
    "            'prediction': prediction,\n",
    "            'pred_label': get_prediction(prediction),\n",
    "            'gold_label': label_names[example['gold_label']],\n",
    "        })\n",
    "    return results"
   ],
   "outputs": [],
   "execution_count": 8
  },
  {
   "cell_type": "markdown",
   "id": "ea8e1258",
   "metadata": {},
   "source": [
    "## Evaluate Metrics\n",
    "\n",
    "Let's use the huggingface `evaluate` package to compute the performance of the baseline.\n"
   ]
  },
  {
   "cell_type": "code",
   "id": "0e2e9027",
   "metadata": {
    "ExecuteTime": {
     "end_time": "2025-07-15T08:01:04.534287Z",
     "start_time": "2025-07-15T08:01:00.331997Z"
    }
   },
   "source": [
    "\n",
    "accuracy = load(\"accuracy\")\n",
    "precision = load(\"precision\")\n",
    "recall = load(\"recall\")\n",
    "f1 = load(\"f1\")\n"
   ],
   "outputs": [],
   "execution_count": 9
  },
  {
   "cell_type": "code",
   "id": "1ab24e1b",
   "metadata": {
    "ExecuteTime": {
     "end_time": "2025-07-15T08:01:09.241810Z",
     "start_time": "2025-07-15T08:01:04.558113Z"
    }
   },
   "source": "clf_metrics = combine([\"accuracy\", \"f1\", \"precision\", \"recall\"])",
   "outputs": [],
   "execution_count": 10
  },
  {
   "cell_type": "code",
   "id": "5d04f0c1",
   "metadata": {
    "ExecuteTime": {
     "end_time": "2025-07-15T08:01:09.305670Z",
     "start_time": "2025-07-15T08:01:09.276959Z"
    }
   },
   "source": [
    "clf_metrics.compute(predictions=[0, 1, 0], references=[0, 1, 1])"
   ],
   "outputs": [
    {
     "data": {
      "text/plain": [
       "{'accuracy': 0.6666666666666666,\n",
       " 'f1': 0.6666666666666666,\n",
       " 'precision': 1.0,\n",
       " 'recall': 0.5}"
      ]
     },
     "execution_count": 11,
     "metadata": {},
     "output_type": "execute_result"
    }
   ],
   "execution_count": 11
  },
  {
   "cell_type": "markdown",
   "id": "0909d58b",
   "metadata": {},
   "source": [
    "## Your Turn\n",
    "\n",
    "Compute the classification metrics on the baseline model on each section of the ImpPres dataset.\n",
    "\n",
    "https://www.kaggle.com/code/faijanahamadkhan/llm-evaluation-framework-hugging-face provides good documentation on how to use the Huggingface evaluate library."
   ]
  },
  {
   "cell_type": "markdown",
   "id": "a51fbc81",
   "metadata": {},
   "source": "We will first run the model through the dataset:"
  },
  {
   "metadata": {
    "ExecuteTime": {
     "end_time": "2025-07-15T08:03:48.065912Z",
     "start_time": "2025-07-15T08:01:09.358423Z"
    }
   },
   "cell_type": "code",
   "source": [
    "results = {}\n",
    "for section_name, section in dataset.items():\n",
    "    print(f\"evaluating section:\\t{section_name}\")\n",
    "    key=next(iter(section.keys()))\n",
    "    results[section_name] = evaluate_on_dataset(section[key])"
   ],
   "id": "f60876ceb41a3b93",
   "outputs": [
    {
     "name": "stdout",
     "output_type": "stream",
     "text": [
      "evaluating section:\tpresupposition_all_n_presupposition\n"
     ]
    },
    {
     "name": "stderr",
     "output_type": "stream",
     "text": [
      "100%|██████████| 1900/1900 [00:17<00:00, 109.14it/s]\n"
     ]
    },
    {
     "name": "stdout",
     "output_type": "stream",
     "text": [
      "evaluating section:\tpresupposition_both_presupposition\n"
     ]
    },
    {
     "name": "stderr",
     "output_type": "stream",
     "text": [
      "100%|██████████| 1900/1900 [00:17<00:00, 109.72it/s]\n"
     ]
    },
    {
     "name": "stdout",
     "output_type": "stream",
     "text": [
      "evaluating section:\tpresupposition_change_of_state\n"
     ]
    },
    {
     "name": "stderr",
     "output_type": "stream",
     "text": [
      "100%|██████████| 1900/1900 [00:17<00:00, 107.34it/s]\n"
     ]
    },
    {
     "name": "stdout",
     "output_type": "stream",
     "text": [
      "evaluating section:\tpresupposition_cleft_existence\n"
     ]
    },
    {
     "name": "stderr",
     "output_type": "stream",
     "text": [
      "100%|██████████| 1900/1900 [00:17<00:00, 107.59it/s]\n"
     ]
    },
    {
     "name": "stdout",
     "output_type": "stream",
     "text": [
      "evaluating section:\tpresupposition_cleft_uniqueness\n"
     ]
    },
    {
     "name": "stderr",
     "output_type": "stream",
     "text": [
      "100%|██████████| 1900/1900 [00:17<00:00, 106.75it/s]\n"
     ]
    },
    {
     "name": "stdout",
     "output_type": "stream",
     "text": [
      "evaluating section:\tpresupposition_only_presupposition\n"
     ]
    },
    {
     "name": "stderr",
     "output_type": "stream",
     "text": [
      "100%|██████████| 1900/1900 [00:17<00:00, 108.10it/s]\n"
     ]
    },
    {
     "name": "stdout",
     "output_type": "stream",
     "text": [
      "evaluating section:\tpresupposition_possessed_definites_existence\n"
     ]
    },
    {
     "name": "stderr",
     "output_type": "stream",
     "text": [
      "100%|██████████| 1900/1900 [00:17<00:00, 107.09it/s]\n"
     ]
    },
    {
     "name": "stdout",
     "output_type": "stream",
     "text": [
      "evaluating section:\tpresupposition_possessed_definites_uniqueness\n"
     ]
    },
    {
     "name": "stderr",
     "output_type": "stream",
     "text": [
      "100%|██████████| 1900/1900 [00:17<00:00, 106.65it/s]\n"
     ]
    },
    {
     "name": "stdout",
     "output_type": "stream",
     "text": [
      "evaluating section:\tpresupposition_question_presupposition\n"
     ]
    },
    {
     "name": "stderr",
     "output_type": "stream",
     "text": [
      "100%|██████████| 1900/1900 [00:17<00:00, 107.52it/s]\n"
     ]
    }
   ],
   "execution_count": 12
  },
  {
   "metadata": {},
   "cell_type": "markdown",
   "source": "We will now use the `evaluate` library to compute the classification metrics:",
   "id": "af736ecfdd9f9b71"
  },
  {
   "metadata": {
    "ExecuteTime": {
     "end_time": "2025-07-15T08:19:43.853208Z",
     "start_time": "2025-07-15T08:19:29.037135Z"
    }
   },
   "cell_type": "code",
   "source": [
    "metric_prf = combine([\"precision\", \"recall\", \"f1\"])\n",
    "acc = load(\"accuracy\")\n",
    "rows = []\n",
    "all_preds, all_refs = [],[]\n",
    "label2id = {\"entailment\": 0, \"neutral\": 1, \"contradiction\": 2}\n",
    "for sec, data in results.items():\n",
    "    print(f\"Computing metrics for section:\\t{sec}\")\n",
    "    preds = [label2id[entry['pred_label']] for entry in data]\n",
    "    refs = [label2id[entry['gold_label']] for entry in data]\n",
    "\n",
    "    prf = metric_prf.compute(predictions=preds, references=refs, average=\"weighted\")\n",
    "    accuracy = acc.compute(predictions=preds, references=refs)[\"accuracy\"]\n",
    "\n",
    "    rows.append({\"section\": sec, \"accuracy\": accuracy, **prf})\n",
    "    all_preds += preds\n",
    "    all_refs += refs\n",
    "\n",
    "overall_prf = metric_prf.compute(predictions=all_preds, references=all_refs, average=\"weighted\")\n",
    "overall_acc = acc.compute(predictions=all_preds, references=all_refs)[\"accuracy\"]\n",
    "rows.append({\"section\": \"all\", \"accuracy\": overall_acc, **overall_prf})"
   ],
   "id": "a29d4be63a05d29a",
   "outputs": [
    {
     "name": "stdout",
     "output_type": "stream",
     "text": [
      "Computing metrics for section:\tpresupposition_all_n_presupposition\n",
      "Computing metrics for section:\tpresupposition_both_presupposition\n",
      "Computing metrics for section:\tpresupposition_change_of_state\n",
      "Computing metrics for section:\tpresupposition_cleft_existence\n",
      "Computing metrics for section:\tpresupposition_cleft_uniqueness\n",
      "Computing metrics for section:\tpresupposition_only_presupposition\n",
      "Computing metrics for section:\tpresupposition_possessed_definites_existence\n",
      "Computing metrics for section:\tpresupposition_possessed_definites_uniqueness\n",
      "Computing metrics for section:\tpresupposition_question_presupposition\n"
     ]
    },
    {
     "data": {
      "text/plain": [
       "                                               accuracy  precision    recall  \\\n",
       "section                                                                        \n",
       "presupposition_all_n_presupposition            0.540526   0.514939  0.540526   \n",
       "presupposition_both_presupposition             0.360526   0.312789  0.360526   \n",
       "presupposition_change_of_state                 0.414211   0.426000  0.414211   \n",
       "presupposition_cleft_existence                 0.686842   0.719960  0.686842   \n",
       "presupposition_cleft_uniqueness                0.223158   0.218875  0.223158   \n",
       "presupposition_only_presupposition             0.677895   0.711884  0.677895   \n",
       "presupposition_possessed_definites_existence   0.768947   0.846793  0.768947   \n",
       "presupposition_possessed_definites_uniqueness  0.399474   0.304671  0.399474   \n",
       "presupposition_question_presupposition         0.715263   0.778503  0.715263   \n",
       "all                                            0.531871   0.536077  0.531871   \n",
       "\n",
       "                                                     f1  \n",
       "section                                                  \n",
       "presupposition_all_n_presupposition            0.512770  \n",
       "presupposition_both_presupposition             0.329215  \n",
       "presupposition_change_of_state                 0.417228  \n",
       "presupposition_cleft_existence                 0.658489  \n",
       "presupposition_cleft_uniqueness                0.217273  \n",
       "presupposition_only_presupposition             0.658692  \n",
       "presupposition_possessed_definites_existence   0.753304  \n",
       "presupposition_possessed_definites_uniqueness  0.344534  \n",
       "presupposition_question_presupposition         0.683899  \n",
       "all                                            0.526309  "
      ],
      "text/html": [
       "<div>\n",
       "<style scoped>\n",
       "    .dataframe tbody tr th:only-of-type {\n",
       "        vertical-align: middle;\n",
       "    }\n",
       "\n",
       "    .dataframe tbody tr th {\n",
       "        vertical-align: top;\n",
       "    }\n",
       "\n",
       "    .dataframe thead th {\n",
       "        text-align: right;\n",
       "    }\n",
       "</style>\n",
       "<table border=\"1\" class=\"dataframe\">\n",
       "  <thead>\n",
       "    <tr style=\"text-align: right;\">\n",
       "      <th></th>\n",
       "      <th>accuracy</th>\n",
       "      <th>precision</th>\n",
       "      <th>recall</th>\n",
       "      <th>f1</th>\n",
       "    </tr>\n",
       "    <tr>\n",
       "      <th>section</th>\n",
       "      <th></th>\n",
       "      <th></th>\n",
       "      <th></th>\n",
       "      <th></th>\n",
       "    </tr>\n",
       "  </thead>\n",
       "  <tbody>\n",
       "    <tr>\n",
       "      <th>presupposition_all_n_presupposition</th>\n",
       "      <td>0.540526</td>\n",
       "      <td>0.514939</td>\n",
       "      <td>0.540526</td>\n",
       "      <td>0.512770</td>\n",
       "    </tr>\n",
       "    <tr>\n",
       "      <th>presupposition_both_presupposition</th>\n",
       "      <td>0.360526</td>\n",
       "      <td>0.312789</td>\n",
       "      <td>0.360526</td>\n",
       "      <td>0.329215</td>\n",
       "    </tr>\n",
       "    <tr>\n",
       "      <th>presupposition_change_of_state</th>\n",
       "      <td>0.414211</td>\n",
       "      <td>0.426000</td>\n",
       "      <td>0.414211</td>\n",
       "      <td>0.417228</td>\n",
       "    </tr>\n",
       "    <tr>\n",
       "      <th>presupposition_cleft_existence</th>\n",
       "      <td>0.686842</td>\n",
       "      <td>0.719960</td>\n",
       "      <td>0.686842</td>\n",
       "      <td>0.658489</td>\n",
       "    </tr>\n",
       "    <tr>\n",
       "      <th>presupposition_cleft_uniqueness</th>\n",
       "      <td>0.223158</td>\n",
       "      <td>0.218875</td>\n",
       "      <td>0.223158</td>\n",
       "      <td>0.217273</td>\n",
       "    </tr>\n",
       "    <tr>\n",
       "      <th>presupposition_only_presupposition</th>\n",
       "      <td>0.677895</td>\n",
       "      <td>0.711884</td>\n",
       "      <td>0.677895</td>\n",
       "      <td>0.658692</td>\n",
       "    </tr>\n",
       "    <tr>\n",
       "      <th>presupposition_possessed_definites_existence</th>\n",
       "      <td>0.768947</td>\n",
       "      <td>0.846793</td>\n",
       "      <td>0.768947</td>\n",
       "      <td>0.753304</td>\n",
       "    </tr>\n",
       "    <tr>\n",
       "      <th>presupposition_possessed_definites_uniqueness</th>\n",
       "      <td>0.399474</td>\n",
       "      <td>0.304671</td>\n",
       "      <td>0.399474</td>\n",
       "      <td>0.344534</td>\n",
       "    </tr>\n",
       "    <tr>\n",
       "      <th>presupposition_question_presupposition</th>\n",
       "      <td>0.715263</td>\n",
       "      <td>0.778503</td>\n",
       "      <td>0.715263</td>\n",
       "      <td>0.683899</td>\n",
       "    </tr>\n",
       "    <tr>\n",
       "      <th>all</th>\n",
       "      <td>0.531871</td>\n",
       "      <td>0.536077</td>\n",
       "      <td>0.531871</td>\n",
       "      <td>0.526309</td>\n",
       "    </tr>\n",
       "  </tbody>\n",
       "</table>\n",
       "</div>"
      ]
     },
     "metadata": {},
     "output_type": "display_data"
    }
   ],
   "execution_count": 23
  },
  {
   "metadata": {},
   "cell_type": "markdown",
   "source": "### Results:",
   "id": "76daa14ea6b3ba44"
  },
  {
   "metadata": {
    "ExecuteTime": {
     "end_time": "2025-07-15T08:20:23.453459Z",
     "start_time": "2025-07-15T08:20:23.444419Z"
    }
   },
   "cell_type": "code",
   "source": [
    "df = pd.DataFrame(rows)\n",
    "display(df.set_index(\"section\"))"
   ],
   "id": "4171519d7431cddc",
   "outputs": [
    {
     "data": {
      "text/plain": [
       "                                               accuracy  precision    recall  \\\n",
       "section                                                                        \n",
       "presupposition_all_n_presupposition            0.540526   0.514939  0.540526   \n",
       "presupposition_both_presupposition             0.360526   0.312789  0.360526   \n",
       "presupposition_change_of_state                 0.414211   0.426000  0.414211   \n",
       "presupposition_cleft_existence                 0.686842   0.719960  0.686842   \n",
       "presupposition_cleft_uniqueness                0.223158   0.218875  0.223158   \n",
       "presupposition_only_presupposition             0.677895   0.711884  0.677895   \n",
       "presupposition_possessed_definites_existence   0.768947   0.846793  0.768947   \n",
       "presupposition_possessed_definites_uniqueness  0.399474   0.304671  0.399474   \n",
       "presupposition_question_presupposition         0.715263   0.778503  0.715263   \n",
       "all                                            0.531871   0.536077  0.531871   \n",
       "\n",
       "                                                     f1  \n",
       "section                                                  \n",
       "presupposition_all_n_presupposition            0.512770  \n",
       "presupposition_both_presupposition             0.329215  \n",
       "presupposition_change_of_state                 0.417228  \n",
       "presupposition_cleft_existence                 0.658489  \n",
       "presupposition_cleft_uniqueness                0.217273  \n",
       "presupposition_only_presupposition             0.658692  \n",
       "presupposition_possessed_definites_existence   0.753304  \n",
       "presupposition_possessed_definites_uniqueness  0.344534  \n",
       "presupposition_question_presupposition         0.683899  \n",
       "all                                            0.526309  "
      ],
      "text/html": [
       "<div>\n",
       "<style scoped>\n",
       "    .dataframe tbody tr th:only-of-type {\n",
       "        vertical-align: middle;\n",
       "    }\n",
       "\n",
       "    .dataframe tbody tr th {\n",
       "        vertical-align: top;\n",
       "    }\n",
       "\n",
       "    .dataframe thead th {\n",
       "        text-align: right;\n",
       "    }\n",
       "</style>\n",
       "<table border=\"1\" class=\"dataframe\">\n",
       "  <thead>\n",
       "    <tr style=\"text-align: right;\">\n",
       "      <th></th>\n",
       "      <th>accuracy</th>\n",
       "      <th>precision</th>\n",
       "      <th>recall</th>\n",
       "      <th>f1</th>\n",
       "    </tr>\n",
       "    <tr>\n",
       "      <th>section</th>\n",
       "      <th></th>\n",
       "      <th></th>\n",
       "      <th></th>\n",
       "      <th></th>\n",
       "    </tr>\n",
       "  </thead>\n",
       "  <tbody>\n",
       "    <tr>\n",
       "      <th>presupposition_all_n_presupposition</th>\n",
       "      <td>0.540526</td>\n",
       "      <td>0.514939</td>\n",
       "      <td>0.540526</td>\n",
       "      <td>0.512770</td>\n",
       "    </tr>\n",
       "    <tr>\n",
       "      <th>presupposition_both_presupposition</th>\n",
       "      <td>0.360526</td>\n",
       "      <td>0.312789</td>\n",
       "      <td>0.360526</td>\n",
       "      <td>0.329215</td>\n",
       "    </tr>\n",
       "    <tr>\n",
       "      <th>presupposition_change_of_state</th>\n",
       "      <td>0.414211</td>\n",
       "      <td>0.426000</td>\n",
       "      <td>0.414211</td>\n",
       "      <td>0.417228</td>\n",
       "    </tr>\n",
       "    <tr>\n",
       "      <th>presupposition_cleft_existence</th>\n",
       "      <td>0.686842</td>\n",
       "      <td>0.719960</td>\n",
       "      <td>0.686842</td>\n",
       "      <td>0.658489</td>\n",
       "    </tr>\n",
       "    <tr>\n",
       "      <th>presupposition_cleft_uniqueness</th>\n",
       "      <td>0.223158</td>\n",
       "      <td>0.218875</td>\n",
       "      <td>0.223158</td>\n",
       "      <td>0.217273</td>\n",
       "    </tr>\n",
       "    <tr>\n",
       "      <th>presupposition_only_presupposition</th>\n",
       "      <td>0.677895</td>\n",
       "      <td>0.711884</td>\n",
       "      <td>0.677895</td>\n",
       "      <td>0.658692</td>\n",
       "    </tr>\n",
       "    <tr>\n",
       "      <th>presupposition_possessed_definites_existence</th>\n",
       "      <td>0.768947</td>\n",
       "      <td>0.846793</td>\n",
       "      <td>0.768947</td>\n",
       "      <td>0.753304</td>\n",
       "    </tr>\n",
       "    <tr>\n",
       "      <th>presupposition_possessed_definites_uniqueness</th>\n",
       "      <td>0.399474</td>\n",
       "      <td>0.304671</td>\n",
       "      <td>0.399474</td>\n",
       "      <td>0.344534</td>\n",
       "    </tr>\n",
       "    <tr>\n",
       "      <th>presupposition_question_presupposition</th>\n",
       "      <td>0.715263</td>\n",
       "      <td>0.778503</td>\n",
       "      <td>0.715263</td>\n",
       "      <td>0.683899</td>\n",
       "    </tr>\n",
       "    <tr>\n",
       "      <th>all</th>\n",
       "      <td>0.531871</td>\n",
       "      <td>0.536077</td>\n",
       "      <td>0.531871</td>\n",
       "      <td>0.526309</td>\n",
       "    </tr>\n",
       "  </tbody>\n",
       "</table>\n",
       "</div>"
      ]
     },
     "metadata": {},
     "output_type": "display_data"
    }
   ],
   "execution_count": 24
  }
 ],
 "metadata": {
  "kernelspec": {
   "display_name": ".venv",
   "language": "python",
   "name": "python3"
  },
  "language_info": {
   "codemirror_mode": {
    "name": "ipython",
    "version": 3
   },
   "file_extension": ".py",
   "mimetype": "text/x-python",
   "name": "python",
   "nbconvert_exporter": "python",
   "pygments_lexer": "ipython3",
   "version": "3.11.5"
  }
 },
 "nbformat": 4,
 "nbformat_minor": 5
}
