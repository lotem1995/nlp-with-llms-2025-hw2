{
 "cells": [
  {
   "cell_type": "markdown",
   "id": "c468709d",
   "metadata": {},
   "source": [
    "# ImpPres Baseline\n",
    "\n",
    "This notebook illustrates how to use the DeBERTa-v3-base-mnli-fever-anli model to perform specialized inference on the ImpPres dataset."
   ]
  },
  {
   "cell_type": "code",
   "id": "2cec0d02",
   "metadata": {
    "ExecuteTime": {
     "end_time": "2025-07-23T13:23:45.406691Z",
     "start_time": "2025-07-23T13:23:44.325553Z"
    }
   },
   "source": [
    "from transformers import AutoTokenizer, AutoModelForSequenceClassification\n",
    "from evaluate import load, combine\n",
    "import torch\n",
    "import pandas as pd\n",
    "from os.path import exists\n",
    "device = torch.device(\"cuda\") if torch.cuda.is_available() else torch.device(\"cpu\")\n",
    "\n",
    "model_name = \"MoritzLaurer/DeBERTa-v3-base-mnli-fever-anli\"\n",
    "tokenizer = AutoTokenizer.from_pretrained(model_name)\n",
    "model = AutoModelForSequenceClassification.from_pretrained(model_name).to(device)"
   ],
   "outputs": [],
   "execution_count": 31
  },
  {
   "cell_type": "code",
   "id": "0cfe31ba",
   "metadata": {
    "ExecuteTime": {
     "end_time": "2025-07-23T13:23:45.412472Z",
     "start_time": "2025-07-23T13:23:45.409587Z"
    }
   },
   "source": [
    "label_names = [\"entailment\", \"neutral\", \"contradiction\"]\n",
    "def evaluate(premise, hypothesis):\n",
    "    input = tokenizer(premise, hypothesis, truncation=True, return_tensors=\"pt\")\n",
    "    output = model(input[\"input_ids\"].to(device))\n",
    "    prediction = torch.softmax(output[\"logits\"][0], -1).tolist()\n",
    "    prediction = {name: round(float(pred) * 100, 1) for pred, name in zip(prediction, label_names)}\n",
    "    return prediction"
   ],
   "outputs": [],
   "execution_count": 32
  },
  {
   "cell_type": "code",
   "id": "a2954d97",
   "metadata": {
    "ExecuteTime": {
     "end_time": "2025-07-23T13:23:45.488299Z",
     "start_time": "2025-07-23T13:23:45.476733Z"
    }
   },
   "source": [
    "evaluate(\"The weather is nice today.\", \"It is sunny outside.\")"
   ],
   "outputs": [
    {
     "name": "stderr",
     "output_type": "stream",
     "text": [
      "Asking to truncate to max_length but no maximum length is provided and the model has no predefined maximum length. Default to no truncation.\n"
     ]
    },
    {
     "data": {
      "text/plain": [
       "{'entailment': 0.1, 'neutral': 99.8, 'contradiction': 0.0}"
      ]
     },
     "execution_count": 33,
     "metadata": {},
     "output_type": "execute_result"
    }
   ],
   "execution_count": 33
  },
  {
   "cell_type": "code",
   "id": "923ea5e0",
   "metadata": {
    "ExecuteTime": {
     "end_time": "2025-07-23T13:23:45.547237Z",
     "start_time": "2025-07-23T13:23:45.545372Z"
    }
   },
   "source": [
    "def get_prediction(pred_dict):\n",
    "    if pred_dict[\"entailment\"] > pred_dict[\"contradiction\"]  and pred_dict[\"entailment\"] > pred_dict[\"neutral\"]:\n",
    "        return \"entailment\"\n",
    "    elif pred_dict[\"contradiction\"] > pred_dict[\"entailment\"] and pred_dict[\"contradiction\"] > pred_dict[\"neutral\"]:\n",
    "        return \"contradiction\"\n",
    "    else:\n",
    "        return \"neutral\""
   ],
   "outputs": [],
   "execution_count": 34
  },
  {
   "cell_type": "markdown",
   "id": "17ab422d",
   "metadata": {},
   "source": [
    "## Load ImpPres Dataset"
   ]
  },
  {
   "cell_type": "code",
   "id": "0438789b",
   "metadata": {
    "ExecuteTime": {
     "end_time": "2025-07-23T13:23:45.685412Z",
     "start_time": "2025-07-23T13:23:45.611082Z"
    }
   },
   "source": [
    "from datasets import load_dataset,Dataset\n",
    "\n",
    "if not exists('combined_imppres_presuppositions.parquet'):\n",
    "    sections = ['presupposition_all_n_presupposition',\n",
    "                'presupposition_both_presupposition',\n",
    "                'presupposition_change_of_state',\n",
    "                'presupposition_cleft_existence',\n",
    "                'presupposition_cleft_uniqueness',\n",
    "                'presupposition_only_presupposition',\n",
    "                'presupposition_possessed_definites_existence',\n",
    "                'presupposition_possessed_definites_uniqueness',\n",
    "                'presupposition_question_presupposition']\n",
    "\n",
    "    dataset = {}\n",
    "    for section in sections:\n",
    "        print(f\"Loading dataset for section: {section}\")\n",
    "        dataset[section] = load_dataset(\"facebook/imppres\", section)\n",
    "    dataframes_list = []\n",
    "    for set in dataset:\n",
    "        for data in dataset:\n",
    "            df = dataset[data].to_pandas()\n",
    "            df['section'] = \"presupposition_\" + data\n",
    "            dataframes_list.append(df)\n",
    "    combined_df = pd.concat(dataframes_list, ignore_index=True)\n",
    "else:\n",
    "    combined_df = pd.read_parquet('combined_imppres_presuppositions.parquet')\n",
    "grouped_df = combined_df.groupby(\"section\")\n",
    "print(f\"loaded combined_imppres_presuppositions.parquet\")\n",
    "combined_df = {}\n",
    "for sec, df_sec in grouped_df:\n",
    "    combined_df[sec] = Dataset.from_pandas(df_sec)\n",
    "dataset = combined_df"
   ],
   "outputs": [
    {
     "name": "stdout",
     "output_type": "stream",
     "text": [
      "loaded combined_imppres_presuppositions.parquet\n"
     ]
    }
   ],
   "execution_count": 35
  },
  {
   "cell_type": "code",
   "id": "e59927ea",
   "metadata": {
    "ExecuteTime": {
     "end_time": "2025-07-23T13:23:45.709776Z",
     "start_time": "2025-07-23T13:23:45.707593Z"
    }
   },
   "source": [
    "dataset"
   ],
   "outputs": [
    {
     "data": {
      "text/plain": [
       "{'presupposition_all_n_presupposition': Dataset({\n",
       "     features: ['premise', 'hypothesis', 'trigger', 'trigger1', 'trigger2', 'presupposition', 'gold_label', 'UID', 'pairID', 'paradigmID', 'section', '__index_level_0__'],\n",
       "     num_rows: 1900\n",
       " }),\n",
       " 'presupposition_both_presupposition': Dataset({\n",
       "     features: ['premise', 'hypothesis', 'trigger', 'trigger1', 'trigger2', 'presupposition', 'gold_label', 'UID', 'pairID', 'paradigmID', 'section', '__index_level_0__'],\n",
       "     num_rows: 1900\n",
       " }),\n",
       " 'presupposition_change_of_state': Dataset({\n",
       "     features: ['premise', 'hypothesis', 'trigger', 'trigger1', 'trigger2', 'presupposition', 'gold_label', 'UID', 'pairID', 'paradigmID', 'section', '__index_level_0__'],\n",
       "     num_rows: 1900\n",
       " }),\n",
       " 'presupposition_cleft_existence': Dataset({\n",
       "     features: ['premise', 'hypothesis', 'trigger', 'trigger1', 'trigger2', 'presupposition', 'gold_label', 'UID', 'pairID', 'paradigmID', 'section', '__index_level_0__'],\n",
       "     num_rows: 1900\n",
       " }),\n",
       " 'presupposition_cleft_uniqueness': Dataset({\n",
       "     features: ['premise', 'hypothesis', 'trigger', 'trigger1', 'trigger2', 'presupposition', 'gold_label', 'UID', 'pairID', 'paradigmID', 'section', '__index_level_0__'],\n",
       "     num_rows: 1900\n",
       " }),\n",
       " 'presupposition_only_presupposition': Dataset({\n",
       "     features: ['premise', 'hypothesis', 'trigger', 'trigger1', 'trigger2', 'presupposition', 'gold_label', 'UID', 'pairID', 'paradigmID', 'section', '__index_level_0__'],\n",
       "     num_rows: 1900\n",
       " }),\n",
       " 'presupposition_possessed_definites_existence': Dataset({\n",
       "     features: ['premise', 'hypothesis', 'trigger', 'trigger1', 'trigger2', 'presupposition', 'gold_label', 'UID', 'pairID', 'paradigmID', 'section', '__index_level_0__'],\n",
       "     num_rows: 1900\n",
       " }),\n",
       " 'presupposition_possessed_definites_uniqueness': Dataset({\n",
       "     features: ['premise', 'hypothesis', 'trigger', 'trigger1', 'trigger2', 'presupposition', 'gold_label', 'UID', 'pairID', 'paradigmID', 'section', '__index_level_0__'],\n",
       "     num_rows: 1900\n",
       " }),\n",
       " 'presupposition_question_presupposition': Dataset({\n",
       "     features: ['premise', 'hypothesis', 'trigger', 'trigger1', 'trigger2', 'presupposition', 'gold_label', 'UID', 'pairID', 'paradigmID', 'section', '__index_level_0__'],\n",
       "     num_rows: 1900\n",
       " })}"
      ]
     },
     "execution_count": 36,
     "metadata": {},
     "output_type": "execute_result"
    }
   ],
   "execution_count": 36
  },
  {
   "cell_type": "code",
   "id": "b8262068",
   "metadata": {
    "ExecuteTime": {
     "end_time": "2025-07-23T13:23:45.779572Z",
     "start_time": "2025-07-23T13:23:45.777266Z"
    }
   },
   "source": [
    "# Evaluate the model on the ImpPres dataset\n",
    "from tqdm import tqdm\n",
    "def evaluate_on_dataset(dataset):\n",
    "    results = []\n",
    "    label_names = [\"entailment\", \"neutral\", \"contradiction\"]\n",
    "    for example in tqdm(dataset):\n",
    "        premise = example['premise']\n",
    "        hypothesis = example['hypothesis']\n",
    "        prediction = evaluate(premise, hypothesis)\n",
    "        results.append({\n",
    "            'premise': premise,\n",
    "            'hypothesis': hypothesis,\n",
    "            'prediction': prediction,\n",
    "            'pred_label': get_prediction(prediction),\n",
    "            'gold_label': label_names[example['gold_label']],\n",
    "        })\n",
    "    return results"
   ],
   "outputs": [],
   "execution_count": 37
  },
  {
   "cell_type": "markdown",
   "id": "ea8e1258",
   "metadata": {},
   "source": [
    "## Evaluate Metrics\n",
    "\n",
    "Let's use the huggingface `evaluate` package to compute the performance of the baseline.\n"
   ]
  },
  {
   "cell_type": "code",
   "id": "0e2e9027",
   "metadata": {
    "ExecuteTime": {
     "end_time": "2025-07-23T13:23:49.926691Z",
     "start_time": "2025-07-23T13:23:45.838870Z"
    }
   },
   "source": [
    "accuracy = load(\"accuracy\")\n",
    "precision = load(\"precision\")\n",
    "recall = load(\"recall\")\n",
    "f1 = load(\"f1\")"
   ],
   "outputs": [],
   "execution_count": 38
  },
  {
   "cell_type": "code",
   "id": "1ab24e1b",
   "metadata": {
    "ExecuteTime": {
     "end_time": "2025-07-23T13:23:54.419960Z",
     "start_time": "2025-07-23T13:23:49.949861Z"
    }
   },
   "source": "clf_metrics = combine([\"accuracy\", \"f1\", \"precision\", \"recall\"])",
   "outputs": [],
   "execution_count": 39
  },
  {
   "cell_type": "code",
   "id": "5d04f0c1",
   "metadata": {
    "ExecuteTime": {
     "end_time": "2025-07-23T13:23:54.454810Z",
     "start_time": "2025-07-23T13:23:54.441144Z"
    }
   },
   "source": [
    "clf_metrics.compute(predictions=[0, 1, 0], references=[0, 1, 1])"
   ],
   "outputs": [
    {
     "data": {
      "text/plain": [
       "{'accuracy': 0.6666666666666666,\n",
       " 'f1': 0.6666666666666666,\n",
       " 'precision': 1.0,\n",
       " 'recall': 0.5}"
      ]
     },
     "execution_count": 40,
     "metadata": {},
     "output_type": "execute_result"
    }
   ],
   "execution_count": 40
  },
  {
   "cell_type": "markdown",
   "id": "0909d58b",
   "metadata": {},
   "source": [
    "## Your Turn\n",
    "\n",
    "Compute the classification metrics on the baseline model on each section of the ImpPres dataset.\n",
    "\n",
    "https://www.kaggle.com/code/faijanahamadkhan/llm-evaluation-framework-hugging-face provides good documentation on how to use the Huggingface evaluate library."
   ]
  },
  {
   "cell_type": "markdown",
   "id": "a51fbc81",
   "metadata": {},
   "source": "We will first run the model through the dataset:"
  },
  {
   "metadata": {},
   "cell_type": "code",
   "source": [
    "# results = {}\n",
    "# for section_name, section in dataset.items():\n",
    "#     print(f\"evaluating section:\\t{section_name}\")\n",
    "#     results[section_name] = evaluate_on_dataset(section)\n",
    "from concurrent.futures import ThreadPoolExecutor\n",
    "\n",
    "def run_section(section_name, section):\n",
    "    print(f\"Evaluating {section_name}\")\n",
    "    return section_name, evaluate_on_dataset(section)\n",
    "\n",
    "with ThreadPoolExecutor(max_workers=4) as executor:\n",
    "    futures = [executor.submit(run_section, name, data) for name, data in dataset.items()]\n",
    "    results = dict(f.result() for f in futures)\n"
   ],
   "id": "f60876ceb41a3b93",
   "outputs": [],
   "execution_count": null
  },
  {
   "metadata": {},
   "cell_type": "markdown",
   "source": "We will now use the `evaluate` library to compute the classification metrics:",
   "id": "af736ecfdd9f9b71"
  },
  {
   "metadata": {
    "ExecuteTime": {
     "end_time": "2025-07-23T13:29:22.219062Z",
     "start_time": "2025-07-23T13:29:17.845571Z"
    }
   },
   "cell_type": "code",
   "source": [
    "metric_prf = combine([\"precision\", \"recall\", \"f1\"])\n",
    "acc = load(\"accuracy\")\n",
    "rows = []\n",
    "all_preds, all_refs = [],[]\n",
    "label2id = {\"entailment\": 0, \"neutral\": 1, \"contradiction\": 2}\n",
    "for sec, data in results.items():\n",
    "    print(f\"Computing metrics for section:\\t{sec}\")\n",
    "    preds = [label2id[entry['pred_label']] for entry in data]\n",
    "    refs = [label2id[entry['gold_label']] for entry in data]\n",
    "\n",
    "    prf = metric_prf.compute(predictions=preds, references=refs, average=\"weighted\")\n",
    "    accuracy = acc.compute(predictions=preds, references=refs)[\"accuracy\"]\n",
    "\n",
    "    rows.append({\"section\": sec, \"accuracy\": accuracy, **prf})\n",
    "    all_preds += preds\n",
    "    all_refs += refs\n",
    "\n",
    "overall_prf = metric_prf.compute(predictions=all_preds, references=all_refs, average=\"weighted\")\n",
    "overall_acc = acc.compute(predictions=all_preds, references=all_refs)[\"accuracy\"]\n",
    "rows.append({\"section\": \"all\", \"accuracy\": overall_acc, **overall_prf})"
   ],
   "id": "a29d4be63a05d29a",
   "outputs": [
    {
     "name": "stdout",
     "output_type": "stream",
     "text": [
      "Computing metrics for section:\tpresupposition_all_n_presupposition\n",
      "Computing metrics for section:\tpresupposition_both_presupposition\n",
      "Computing metrics for section:\tpresupposition_change_of_state\n",
      "Computing metrics for section:\tpresupposition_cleft_existence\n",
      "Computing metrics for section:\tpresupposition_cleft_uniqueness\n",
      "Computing metrics for section:\tpresupposition_only_presupposition\n",
      "Computing metrics for section:\tpresupposition_possessed_definites_existence\n",
      "Computing metrics for section:\tpresupposition_possessed_definites_uniqueness\n",
      "Computing metrics for section:\tpresupposition_question_presupposition\n"
     ]
    }
   ],
   "execution_count": 45
  },
  {
   "metadata": {},
   "cell_type": "markdown",
   "source": "### Results:",
   "id": "76daa14ea6b3ba44"
  },
  {
   "metadata": {
    "ExecuteTime": {
     "end_time": "2025-07-23T13:29:22.228987Z",
     "start_time": "2025-07-23T13:29:22.224168Z"
    }
   },
   "cell_type": "code",
   "source": [
    "df = pd.DataFrame(rows)\n",
    "display(df.set_index(\"section\"))"
   ],
   "id": "4171519d7431cddc",
   "outputs": [
    {
     "data": {
      "text/plain": [
       "                                               accuracy  precision    recall  \\\n",
       "section                                                                        \n",
       "presupposition_all_n_presupposition            0.540526   0.514939  0.540526   \n",
       "presupposition_both_presupposition             0.360526   0.312789  0.360526   \n",
       "presupposition_change_of_state                 0.414211   0.426000  0.414211   \n",
       "presupposition_cleft_existence                 0.686842   0.719960  0.686842   \n",
       "presupposition_cleft_uniqueness                0.223158   0.218875  0.223158   \n",
       "presupposition_only_presupposition             0.677895   0.711884  0.677895   \n",
       "presupposition_possessed_definites_existence   0.768947   0.846793  0.768947   \n",
       "presupposition_possessed_definites_uniqueness  0.399474   0.304671  0.399474   \n",
       "presupposition_question_presupposition         0.715263   0.778503  0.715263   \n",
       "all                                            0.531871   0.536077  0.531871   \n",
       "\n",
       "                                                     f1  \n",
       "section                                                  \n",
       "presupposition_all_n_presupposition            0.512770  \n",
       "presupposition_both_presupposition             0.329215  \n",
       "presupposition_change_of_state                 0.417228  \n",
       "presupposition_cleft_existence                 0.658489  \n",
       "presupposition_cleft_uniqueness                0.217273  \n",
       "presupposition_only_presupposition             0.658692  \n",
       "presupposition_possessed_definites_existence   0.753304  \n",
       "presupposition_possessed_definites_uniqueness  0.344534  \n",
       "presupposition_question_presupposition         0.683899  \n",
       "all                                            0.526309  "
      ],
      "text/html": [
       "<div>\n",
       "<style scoped>\n",
       "    .dataframe tbody tr th:only-of-type {\n",
       "        vertical-align: middle;\n",
       "    }\n",
       "\n",
       "    .dataframe tbody tr th {\n",
       "        vertical-align: top;\n",
       "    }\n",
       "\n",
       "    .dataframe thead th {\n",
       "        text-align: right;\n",
       "    }\n",
       "</style>\n",
       "<table border=\"1\" class=\"dataframe\">\n",
       "  <thead>\n",
       "    <tr style=\"text-align: right;\">\n",
       "      <th></th>\n",
       "      <th>accuracy</th>\n",
       "      <th>precision</th>\n",
       "      <th>recall</th>\n",
       "      <th>f1</th>\n",
       "    </tr>\n",
       "    <tr>\n",
       "      <th>section</th>\n",
       "      <th></th>\n",
       "      <th></th>\n",
       "      <th></th>\n",
       "      <th></th>\n",
       "    </tr>\n",
       "  </thead>\n",
       "  <tbody>\n",
       "    <tr>\n",
       "      <th>presupposition_all_n_presupposition</th>\n",
       "      <td>0.540526</td>\n",
       "      <td>0.514939</td>\n",
       "      <td>0.540526</td>\n",
       "      <td>0.512770</td>\n",
       "    </tr>\n",
       "    <tr>\n",
       "      <th>presupposition_both_presupposition</th>\n",
       "      <td>0.360526</td>\n",
       "      <td>0.312789</td>\n",
       "      <td>0.360526</td>\n",
       "      <td>0.329215</td>\n",
       "    </tr>\n",
       "    <tr>\n",
       "      <th>presupposition_change_of_state</th>\n",
       "      <td>0.414211</td>\n",
       "      <td>0.426000</td>\n",
       "      <td>0.414211</td>\n",
       "      <td>0.417228</td>\n",
       "    </tr>\n",
       "    <tr>\n",
       "      <th>presupposition_cleft_existence</th>\n",
       "      <td>0.686842</td>\n",
       "      <td>0.719960</td>\n",
       "      <td>0.686842</td>\n",
       "      <td>0.658489</td>\n",
       "    </tr>\n",
       "    <tr>\n",
       "      <th>presupposition_cleft_uniqueness</th>\n",
       "      <td>0.223158</td>\n",
       "      <td>0.218875</td>\n",
       "      <td>0.223158</td>\n",
       "      <td>0.217273</td>\n",
       "    </tr>\n",
       "    <tr>\n",
       "      <th>presupposition_only_presupposition</th>\n",
       "      <td>0.677895</td>\n",
       "      <td>0.711884</td>\n",
       "      <td>0.677895</td>\n",
       "      <td>0.658692</td>\n",
       "    </tr>\n",
       "    <tr>\n",
       "      <th>presupposition_possessed_definites_existence</th>\n",
       "      <td>0.768947</td>\n",
       "      <td>0.846793</td>\n",
       "      <td>0.768947</td>\n",
       "      <td>0.753304</td>\n",
       "    </tr>\n",
       "    <tr>\n",
       "      <th>presupposition_possessed_definites_uniqueness</th>\n",
       "      <td>0.399474</td>\n",
       "      <td>0.304671</td>\n",
       "      <td>0.399474</td>\n",
       "      <td>0.344534</td>\n",
       "    </tr>\n",
       "    <tr>\n",
       "      <th>presupposition_question_presupposition</th>\n",
       "      <td>0.715263</td>\n",
       "      <td>0.778503</td>\n",
       "      <td>0.715263</td>\n",
       "      <td>0.683899</td>\n",
       "    </tr>\n",
       "    <tr>\n",
       "      <th>all</th>\n",
       "      <td>0.531871</td>\n",
       "      <td>0.536077</td>\n",
       "      <td>0.531871</td>\n",
       "      <td>0.526309</td>\n",
       "    </tr>\n",
       "  </tbody>\n",
       "</table>\n",
       "</div>"
      ]
     },
     "metadata": {},
     "output_type": "display_data"
    }
   ],
   "execution_count": 46
  },
  {
   "metadata": {
    "ExecuteTime": {
     "end_time": "2025-07-23T13:30:05.807469Z",
     "start_time": "2025-07-23T13:30:05.705232Z"
    }
   },
   "cell_type": "code",
   "source": [
    "import matplotlib.pyplot as plt\n",
    "\n",
    "plt.figure(figsize=(12, 6))\n",
    "\n",
    "plt.bar(df.index, df['accuracy'], alpha=0.8, label='Accuracy')\n",
    "plt.bar(df.index, df['f1'], alpha=0.6, label='F1')\n",
    "plt.bar(df.index, df['precision'], alpha=0.4, label='Precision')\n",
    "plt.bar(df.index, df['recall'], alpha=0.2, label='Recall')\n",
    "\n",
    "plt.xticks(ticks=df.index, labels=df['section'], rotation=45, ha='right')\n",
    "plt.title('Model Performance Metrics by Section')\n",
    "plt.ylabel('Score')\n",
    "plt.legend()\n",
    "plt.tight_layout()\n",
    "plt.show()\n"
   ],
   "id": "77d6edcb70f30bb3",
   "outputs": [
    {
     "data": {
      "text/plain": [
       "<Figure size 1200x600 with 1 Axes>"
      ],
      "image/png": "[encoded data removed]"
     },
     "metadata": {},
     "output_type": "display_data"
    }
   ],
   "execution_count": 48
  },
  {
   "metadata": {},
   "cell_type": "code",
   "outputs": [],
   "execution_count": null,
   "source": [
    "deberta_preds_full = []\n",
    "label2id = {\"entailment\": 0, \"neutral\": 1, \"contradiction\": 2}\n",
    "\n",
    "for sec, data in results.items():\n",
    "    deberta_preds_full.extend([entry['pred_label'] for entry in data])\n"
   ],
   "id": "aaa13d88bc224cc3"
  },
  {
   "metadata": {},
   "cell_type": "code",
   "outputs": [],
   "execution_count": null,
   "source": [
    "# assuming these exist in that notebook\n",
    "# combined_df  -> full dataframe\n",
    "# deberta_preds_full -> list[str] predictions aligned to combined_df rows (or slice you evaluated)\n",
    "# If you only evaluated a subset, slice the same rows.\n",
    "\n",
    "baseline_out = combined_df.loc[:, [\"UID\",\"section\",\"gold_label\"]].copy()\n",
    "baseline_out[\"gold_label_str\"] = baseline_out[\"gold_label\"].map({0:\"entailment\",1:\"neutral\",2:\"contradiction\"})\n",
    "baseline_out[\"deberta_pred\"]    = deberta_preds_full  # align lengths first!\n",
    "\n",
    "baseline_out.to_parquet(\"deberta_item_preds.parquet\")\n",
    "print(\"Saved -> deberta_item_preds.parquet\")\n"
   ],
   "id": "2f2bd0f1a582ee00"
  }
 ],
 "metadata": {
  "kernelspec": {
   "display_name": ".venv",
   "language": "python",
   "name": "python3"
  },
  "language_info": {
   "codemirror_mode": {
    "name": "ipython",
    "version": 3
   },
   "file_extension": ".py",
   "mimetype": "text/x-python",
   "name": "python",
   "nbconvert_exporter": "python",
   "pygments_lexer": "ipython3",
   "version": "3.11.5"
  }
 },
 "nbformat": 4,
 "nbformat_minor": 5
}
